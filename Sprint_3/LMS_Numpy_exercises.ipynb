{
 "cells": [
  {
   "cell_type": "markdown",
   "metadata": {},
   "source": [
    "# Epic 1: Basics of Statistics\n",
    "Data Science is an extensive term which includes different concepts and technologies. But before you dive deep into the big sea of data science, you must first familiarize yourself with some basics of mathematics and statistics. Please do not worry; we only need a basic understanding of Maths and Statistics.\n",
    "\n",
    "Data Analytics is incomplete without the knowledge of Probability and Statistics. Statistical knowledge helps you use the proper methods to collect the data and guides you about the correctness of the analysis.\n",
    "\n",
    "Statistics is a crucial process behind how Data Analysts make decisions based on data and predictions."
   ]
  },
  {
   "cell_type": "markdown",
   "metadata": {},
   "source": [
    "### About Statistics\n",
    "Statistics, which is a branch of mathematics, is concerned with developing and studying methods for collection, analysis, interpretation and presentation of data.\n",
    "\n",
    "With huge amount of data being generated each day and increasing computation power, statistics has become major tool for any business to predict the market and reshape their business model based on analysis of market sentiment and customer’s behavior.\n",
    "\n",
    "Often, a statistic is used to measure the value of a population parameter. For instance, consider a random sample of 100 employees from a organization with 1000 employees. The average salary of the sampled employees will give a statistics of whole organization."
   ]
  },
  {
   "cell_type": "markdown",
   "metadata": {},
   "source": [
    "### Uncertainty and Variation are the key concepts in the field of Probability and Statistics.\n",
    "\n",
    "Uncertainty, as the name suggests, is the situation where outcome **can not be determined**. For example, based on previous match’s performance, a soccer team’s chance of winning can be estimated to be very likely, however, no-one can guarantee the outcome. Also sometimes, uncertainty exists because of a lack of awareness. Suppose a candidate has been interviewed for a job offer, however, he/she can not know whether he/she has passed the interview until the employer provides the official job offer letter or publishes the results."
   ]
  },
  {
   "cell_type": "code",
   "execution_count": 1,
   "metadata": {},
   "outputs": [],
   "source": [
    "# the text above mentions Variation in the title, but doesn't refer to it any further"
   ]
  },
  {
   "cell_type": "markdown",
   "metadata": {},
   "source": [
    "### There are two major branches of statistics - Descriptive and Inferential.\n",
    "\n",
    "**Descriptive** statistics helps to analyze data by describing or summarizing data in a meaningful way. It might look for some patterns which can help to reach conclusion about the data, however, it does not draw any conclusion beyond the data or about any hypotheses. There comes **Inferential** statistics which provides techniques that can draw a small sample from a large population to make generalizations about that population and also perform hypothesis testing to determine relationships between two datasets.\n",
    "\n",
    "*Let’s say, the mean height of 100 students in a school is 150 cm. 100 students here represent a small sample from a large population of 2500 students in the school. This mean value is parameter of descriptive statistics. However, no conclusion can be made about rest of the students just by looking at the sample students.*\n",
    "\n",
    "Now, to make generalizations of this population of 2500 students without measuring height of each student, the task is to do proper **sampling** and choose 100 students such that the sample accurately represents the population. However, sampling naturally consists of sampling error and thus a sample can not be considered to be the perfect representative of the whole population. For example, we could assume that all of the 2500 students are at least 135cm. But, if at least one student is found to be of less than 135 cm height, this conclusion is shown to be erroneous. So, the need is to have a conclusion with a certain accuracy level, e.g., in 80% of cases, the heights of students fall above 135 cm.\n",
    "\n",
    "That is inferring correctness of a conclusion with a calculated measure of risk. This is referred to as **Inferential** Statistics."
   ]
  },
  {
   "cell_type": "markdown",
   "metadata": {},
   "source": [
    "### Descriptive Statistics\n",
    "Descriptive statistics **describe, show or summarize data** so that meaningful insights can be extracted.\n",
    "\n",
    "The parameters of descriptive statistics can be classifies into **4 categories**\n",
    "\n",
    "**Measures of Frequency** (Count, Percent, Frequency)  \n",
    "In simple words, in an electronics store, how many laptops are sold in a month? Or, what proportion of laptops sold in a month are MacBooks? Or, in a sale of 10 laptops, how many are MacBooks ?\n",
    "\n",
    "**Measures of Central Tendency** (Mean, Median, Mode)  \n",
    "In words, in an electronics store, what is the average price of a Samsung laptop? Or, what is the price of the laptop model that divides Samsung laptops into two equal groups: high end models & low end models. (here, model 5) Or, which laptop model is sold highest in number this year?\n",
    "\n",
    "\n",
    "![stat-1.jpg](images/stat-1.jpg \"stat-1\")\n",
    "\n",
    "**Measures of Variation** (Range, Variance, Standard Deviation)  \n",
    "Range measure the difference between highest and lowest value. Therefore, the range of price for Samsung laptops in the store is $1230 – $389 = $841.\n",
    "\n",
    "\n",
    "The parameters **Variance and Standard Deviation** shows how \"spread out\" the data is.\n",
    "\n",
    "Variance and Standard Deviation measures the difference between observed score and mean value. In the store, the mean value is $822.\n",
    "\n",
    "$Variance = ((389 - 822)^2 + (400 - 822)^2 + (500 - 822)^2 + (780 - 822)^2 + (800 - 822)^2 + (1000 - 822)^2 + (1100 - 822)^2 + (1200 - 822)^2 + (1230 - 822)^2) / (9-1) = 111227 (approx)$\n",
    "\n",
    "$Standard deviation = Square root of Variance = 333 (approx)$\n",
    "\n",
    "**Measures of Relative Position** (Percentile, Quartile)  \n",
    "It describes how data points fall in relation to one another.\n",
    "\n",
    "Descriptive statistics would help to answer the below questions:\n",
    "\n",
    "- What kind of distributions the data points have?\n",
    "- Do the dataset contain a wide range of values or there are a lot of similar values?\n",
    "- What value is in the center of the data points?\n",
    "- Where does a particular value stand with respect to other values in the dataset?\n",
    "- Is there any particular region where data points are more concentrated?\n",
    "- With the more and more collection of data points, what is the change in overall distribution?"
   ]
  },
  {
   "cell_type": "markdown",
   "metadata": {},
   "source": [
    "### Inferential Statistics\n",
    "**Inferential statistics use a random sample of data taken from a population and looks for patterns and insights to describe and make inferences about the population.**\n",
    "\n",
    "To understand concepts of Inferential Statistics, you will have to be acquainted with the following terminologies.\n",
    "\n",
    "#### Confidence Interval\n",
    "A 'Confidence Interval' is a range of values we are fairly sure our true value lies in.\n",
    "\n",
    "Statisticians and other analysts use confidence intervals to understand the statistical significance of their estimations, inferences, or predictions.\n",
    "\n",
    "Usually we use a confidence level of 95% or 99%, and we calculate the interval in which, under repeated sampling of the same population, we would find the true value 95% or 99% of the time.\n",
    "\n",
    "Confidence *level* is expressed as a percentage, while confidence *interval* is a range of values.\n",
    "\n",
    "Sounds complicated but it's not! Let's make an example.\n",
    "\n",
    "We measure the heights of 240 randomly chosen men and we find out that the mean height is 175cm. We also know that the standard deviation is 20cm.\n",
    "\n",
    "We decide that we want to calculate the confidence interval for a confidence level of 95%.\n",
    "\n",
    "We use [this great calculator](https://www.mathsisfun.com/data/confidence-interval-calculator.html) and find out that our confidence interval is (168.8cm, 181.2cm). This means that if we would take another random sample of men, 95% of the times their height would fall between these 2 values.\n"
   ]
  },
  {
   "cell_type": "code",
   "execution_count": 2,
   "metadata": {},
   "outputs": [],
   "source": [
    "# LMS says the confidence interval is (168.8cm, 181.2cm).\n",
    "# The calculator, given the same data, provides a different result (172 to 178)."
   ]
  },
  {
   "cell_type": "markdown",
   "metadata": {},
   "source": [
    "Try to use a smaller confidence level and see what happens to the confidence interval! Then try with a higher confidence level.\n",
    "\n",
    "#### Hypothesis Testing\n",
    "A hypothesis, a type of statistical inference, can be termed as an educated guess about any topic. However, one should be able to test it, either by conducting an experiment or observation.\n",
    "\n",
    "The key is to understand how to formulate the hypothesis statement. The below format is one of the most widely used ways to describe a hypothesis statement:\n",
    "\n",
    "**If (change in independent variable), then (change in dependent variable).**\n",
    "\n",
    "Examples:\n",
    "\n",
    "- If (students are more exposed to a \"learning by doing\" methodology) then (increase in student engagement in the subjects)\n",
    "- If (increase in the amount of water given to plants) then (increase in growth of the plants).\n",
    "Now that we have 2 hypotheses, we need to figure out the **null hypothesis** for both of them.\n",
    "\n",
    "A null hypothesis says there is no statistical significance between the two events in the hypothesis.\n",
    "\n",
    "Obviously our goal is to disprove it.\n",
    "\n",
    "The null hypothesis for the examples above are:\n",
    "\n",
    "- There is no statistical significance between \"learning by doing\" methodologies and student engagement\n",
    "- There is no statistical significance between water and plant growth\n",
    "Now, the task is to challenge the null hypothesis and usually disprove it to demonstrate that there is a relationship between the two events.\n",
    "\n",
    "Therefore, the alternative hypothesis would state the following:\n",
    "\n",
    "The \"learning by doing\" methodology brings higher engagement\n",
    "The more water the greater the growth of the plants\n",
    "\n",
    "Now let's perform our tests!\n",
    "\n",
    "Refuting / Accepting the null hypothesis would require showing statistical significance, which can be found using a variety of tests. The p-value (which is basically a measure of probability that the null hypotheses is true) can be used to determine the statistical significance of the results.\n",
    "\n",
    "A p-value that is less than or equal to 0.05 usually indicates that there is strong evidence against the null hypothesis.\n",
    "\n",
    "If we conduct one of these tests, we will find out that the p-value is indeed smaller for the first hypothesis (learning by doing DOES bring higher engagement) and for the second it is higher (the amount of water is not directly related to the growth of plants).\n",
    "\n",
    "In the next project, you will perform hypothesis testing and all these concepts will become more clear. For now it's just important to remember that every statement you make needs to be statistically valid to be taken into consideration.\n",
    "\n"
   ]
  },
  {
   "cell_type": "markdown",
   "metadata": {},
   "source": [
    "### Some Exercises\n",
    "Now it's time to solve some problems. Each problem can be solved both by hand (or by observation) and by using a Python library called Numpy. We encourage you to first try understand the solution by observing (or calculating) and then confirm it by using the library.\n",
    "\n",
    "A library is a collection of modules. You can think of packages as the directories on a file system and modules as files within directories.\n",
    "\n",
    "A module is a file consisting of Python code that performs a specific task. Therefore, a module is similar to a function that allows you to perform many actions without writing your own code.\n",
    "\n",
    "To install Numpy on your conda virtual environment, follow this documentation: https://anaconda.org/anaconda/numpy.\n",
    "\n",
    "Hint: The line of code that you will find in the link needs to be pasted into the Anaconda Prompt!\n",
    "\n",
    "Get familiar with the basic concepts of Numpy: https://cs231n.github.io/python-numpy-tutorial/#numpy\n",
    "\n"
   ]
  },
  {
   "cell_type": "markdown",
   "metadata": {},
   "source": [
    "### Exercise 1\n",
    "Given, there are 5 numbers in the data set: (8, 12, 16, 24, 4). What is the standard deviation? And, what will be the sum of deviations of individual data points from their mean?"
   ]
  },
  {
   "cell_type": "code",
   "execution_count": 1,
   "metadata": {},
   "outputs": [],
   "source": [
    "import numpy as np"
   ]
  },
  {
   "cell_type": "code",
   "execution_count": 14,
   "metadata": {},
   "outputs": [
    {
     "name": "stdout",
     "output_type": "stream",
     "text": [
      "standard deviation is: 6.881860213634101\n",
      "the sum of deviations of individual data points from their mean is: -3.552713678800501e-15\n"
     ]
    }
   ],
   "source": [
    "arr = np.array((8, 12, 16, 24, 4))\n",
    "print(f'standard deviation is: {np.std(arr)}')\n",
    "print(f'the sum of deviations of individual data points from their mean is: {sum(arr - np.mean(arr))}')"
   ]
  },
  {
   "cell_type": "markdown",
   "metadata": {},
   "source": [
    "### Exercise 2\n",
    "If some outliers are introduced to the dataset, what will happen to the Standard Deviation? Will it increase, decrease or remain the same?"
   ]
  },
  {
   "cell_type": "code",
   "execution_count": 17,
   "metadata": {},
   "outputs": [
    {
     "name": "stdout",
     "output_type": "stream",
     "text": [
      "standard deviation is: 42.50490167812021\n",
      "standard deviation is: 33.09917756615042\n"
     ]
    }
   ],
   "source": [
    "arr = np.array((8, 12, 16, 24, 4, -100))\n",
    "print(f'standard deviation is: {np.std(arr)}')\n",
    "\n",
    "arr = np.array((8, 12, 16, 24, 4, 100))\n",
    "print(f'standard deviation is: {np.std(arr)}')\n",
    "\n",
    "# It will increase"
   ]
  },
  {
   "cell_type": "markdown",
   "metadata": {},
   "source": [
    "### Exercise 3 - no Numpy\n",
    "\n",
    "Suppose the below positively skewed distribution has a median of 30, which of the following statement is true?\n",
    "\n",
    "- A) Mean is greater than 30\n",
    "- B) Mean is less than 30\n",
    "- C) Mode is greater than 30\n",
    "- D) Mode is less than 30\n",
    "- E) Both A and D\n",
    "- F) Both B and C\n",
    "\n",
    "ANSWER: F"
   ]
  },
  {
   "cell_type": "markdown",
   "metadata": {},
   "source": [
    "### Exercise 4\n",
    "Which value can be the possible value for the median of the below distribution?"
   ]
  },
  {
   "cell_type": "code",
   "execution_count": 42,
   "metadata": {},
   "outputs": [],
   "source": [
    "data = [[10, 10, 10, 10, 11, 11, 12, 13, 14 ],\n",
    "[15, 15, 15, 16, 16, 16, 16, 16, 17, 18, 19, 19],\n",
    "[20, 20, 20, 21, 21, 21, 21, 21, 22, 22, 22, 23, 23, 23, 24, 24, 24],\n",
    "[26, 26, 26, 26, 26, 26, 26, 27, 27, 27, 27, 29, 29, 29, 29, 29, 29, 29, 29, 29],\n",
    "[30, 30, 30, 30, 30, 31, 31, 32, 32, 33, 33, 34, 34],\n",
    "[35, 35, 35, 37, 37, 37, 37, 39, 39, 39],\n",
    "[40, 40, 43, 43, 44, 44],\n",
    "[46, 46, 46, 47, 49],\n",
    "[52, 53, 54]]"
   ]
  },
  {
   "cell_type": "code",
   "execution_count": 46,
   "metadata": {},
   "outputs": [
    {
     "data": {
      "text/plain": [
       "27.0"
      ]
     },
     "execution_count": 46,
     "metadata": {},
     "output_type": "execute_result"
    }
   ],
   "source": [
    "data_one_list = []\n",
    "for lst in data:\n",
    "    for num in lst:\n",
    "        data_one_list.append(num)\n",
    "\n",
    "array = np.array(data_one_list)\n",
    "np.median(array)\n"
   ]
  },
  {
   "cell_type": "markdown",
   "metadata": {},
   "source": [
    "### Exercise 5-6-7\n",
    "Given the following distribution:"
   ]
  },
  {
   "cell_type": "markdown",
   "metadata": {},
   "source": [
    "What is the shape of the distribution? (no Numpy)\n",
    "\n",
    "ANSWER: it has a positively skewed distribution, positive kurtosis and is heavy tailed on the positive value side.\n"
   ]
  },
  {
   "cell_type": "markdown",
   "metadata": {},
   "source": [
    "What would you consider to be the most appropriate measure of the center for this data?\n",
    "\n",
    "ANSWER: mean"
   ]
  },
  {
   "cell_type": "markdown",
   "metadata": {},
   "source": [
    "If Y axis represents the number of individuals and X axis – salary of the individual in thousands. How many individuals have salary less than 10 thousands? (no Numpy)\n",
    "\n",
    "ANSWER: ~35"
   ]
  },
  {
   "cell_type": "markdown",
   "metadata": {},
   "source": [
    "### Exercise 8\n",
    "We have a set of positive numbers. If a single value of the set is altered what must change?\n",
    "\n",
    "- A) Mean\n",
    "- B) Median\n",
    "- C) Mode\n",
    "- D) All of these\n",
    "\n",
    "Hint: try to create a Numpy array and calculate mean median and mode, then alter it and see what changes\n",
    "\n",
    "ANSWER: A (technically the mean will always change. The mode and median might change, but don't need to)"
   ]
  },
  {
   "cell_type": "code",
   "execution_count": 4,
   "metadata": {},
   "outputs": [
    {
     "name": "stdout",
     "output_type": "stream",
     "text": [
      "3.7777777777777777\n",
      "[ 1  2  3  4  4 10  2  8  6]\n",
      "4.444444444444445\n"
     ]
    }
   ],
   "source": [
    "arr = np.array([1, 2, 3, 4, 4, 4, 2, 8, 6])\n",
    "print(arr.mean())\n",
    "arr[5] = 10\n",
    "print(arr)\n",
    "print(arr.mean())"
   ]
  },
  {
   "cell_type": "code",
   "execution_count": 10,
   "metadata": {},
   "outputs": [
    {
     "name": "stdout",
     "output_type": "stream",
     "text": [
      "4.0\n",
      "[ 1  2  3  4  4 10  2  8  6]\n",
      "4.0\n"
     ]
    }
   ],
   "source": [
    "arr = np.array([1, 2, 3, 4, 4, 4, 2, 8, 6])\n",
    "print(np.median(arr))\n",
    "arr[5] = 10\n",
    "print(arr)\n",
    "print(np.median(arr))"
   ]
  },
  {
   "cell_type": "code",
   "execution_count": 15,
   "metadata": {},
   "outputs": [
    {
     "name": "stdout",
     "output_type": "stream",
     "text": [
      "ModeResult(mode=4, count=3)\n",
      "[ 1  2  3  4  4 10  7  8  6]\n",
      "ModeResult(mode=4, count=2)\n"
     ]
    }
   ],
   "source": [
    "from scipy import stats\n",
    "\n",
    "arr = np.array([1, 2, 3, 4, 4, 4, 7, 8, 6])\n",
    "print(stats.mode(arr))\n",
    "arr[5] = 10\n",
    "print(arr)\n",
    "print(stats.mode(arr))"
   ]
  },
  {
   "cell_type": "markdown",
   "metadata": {},
   "source": [
    "### Exercise 9\n",
    "The chart shows hourly consultancy rate of 10 people.\n",
    "\n",
    "Calculate the standard deviation of the salaries of the 10 employees."
   ]
  },
  {
   "cell_type": "code",
   "execution_count": 35,
   "metadata": {},
   "outputs": [
    {
     "data": {
      "text/plain": [
       "{25: 3, 40: 2, 35: 1, 50: 4}"
      ]
     },
     "execution_count": 35,
     "metadata": {},
     "output_type": "execute_result"
    }
   ],
   "source": [
    "salary = {\n",
    "    25 : 3,\n",
    "    40 : 2,\n",
    "    35 : 1,\n",
    "    50 : 4\n",
    "}"
   ]
  },
  {
   "cell_type": "code",
   "execution_count": 39,
   "metadata": {},
   "outputs": [
    {
     "data": {
      "text/plain": [
       "[25, 25, 25, 40, 40, 35, 50, 50, 50, 50]"
      ]
     },
     "execution_count": 39,
     "metadata": {},
     "output_type": "execute_result"
    }
   ],
   "source": [
    "data = []\n",
    "for rate in salary:\n",
    "    for i in range(salary[rate]):\n",
    "        data.append(rate)\n",
    "data"
   ]
  },
  {
   "cell_type": "code",
   "execution_count": 40,
   "metadata": {},
   "outputs": [
    {
     "name": "stdout",
     "output_type": "stream",
     "text": [
      "standard deviation is: 10.44030650891055\n"
     ]
    }
   ],
   "source": [
    "arr = np.array(data)\n",
    "print(f'standard deviation is: {np.std(arr)}')"
   ]
  },
  {
   "cell_type": "markdown",
   "metadata": {},
   "source": [
    "### Exercise 10 (no Numpy)\n",
    "Which of the following random variables is discrete?\n",
    "\n",
    "* A) the length of time a battery lasts\n",
    "* B) the number of pens purchased by a student in a year\n",
    "* C) the percentage of cows in a cattle firm that have been vaccinated\n",
    "* D) the distance between a pair of towns\n",
    "\n",
    "ANSWER: B\n",
    "\n",
    "A discrete random variable is one which may take on only a countable number of distinct values such as 0,1,2,3,4,........ Discrete random variables are usually (but not necessarily) counts. If a random variable can take only a finite number of distinct values, then it must be discrete. Examples of discrete random variables include the number of children in a family, the Friday night attendance at a cinema, the number of patients in a doctor's surgery, the number of defective light bulbs in a box of ten.\n"
   ]
  },
  {
   "cell_type": "markdown",
   "metadata": {},
   "source": [
    "### Exercise 11 (no Numpy)\n",
    "Which of the below normal distributions will have the greatest spread?\n",
    "\n",
    "* A) mu=5, sigma =1.5\n",
    "* B) mu=10, sigma =1.0\n",
    "* C) mu=5, sigma =1.65\n",
    "* D) mu=8, sigma =1.2\n",
    "* E) mu=10, sigma =1.6\n",
    "\n",
    "ANSWER: C (because the higher the sigma, which represents the standard deviation, the bigger the spread)"
   ]
  },
  {
   "cell_type": "code",
   "execution_count": null,
   "metadata": {},
   "outputs": [],
   "source": []
  }
 ],
 "metadata": {
  "kernelspec": {
   "display_name": "base",
   "language": "python",
   "name": "python3"
  },
  "language_info": {
   "codemirror_mode": {
    "name": "ipython",
    "version": 3
   },
   "file_extension": ".py",
   "mimetype": "text/x-python",
   "name": "python",
   "nbconvert_exporter": "python",
   "pygments_lexer": "ipython3",
   "version": "3.11.5"
  }
 },
 "nbformat": 4,
 "nbformat_minor": 2
}
