{
 "cells": [
  {
   "cell_type": "code",
   "execution_count": 1,
   "metadata": {},
   "outputs": [
    {
     "name": "stdout",
     "output_type": "stream",
     "text": [
      "hello World!\n"
     ]
    }
   ],
   "source": [
    "print(\"hello World!\")"
   ]
  },
  {
   "cell_type": "markdown",
   "metadata": {},
   "source": [
    "# Loops\n"
   ]
  },
  {
   "cell_type": "markdown",
   "metadata": {},
   "source": [
    "## For Loop"
   ]
  },
  {
   "cell_type": "markdown",
   "metadata": {},
   "source": [
    "#### Syntax of a for loop"
   ]
  },
  {
   "cell_type": "code",
   "execution_count": 39,
   "metadata": {},
   "outputs": [
    {
     "name": "stdout",
     "output_type": "stream",
     "text": [
      "Belal\n",
      "Belal\n",
      "Belal\n"
     ]
    }
   ],
   "source": [
    "my_iterable = [1,2,3]  # a list of items to be iterated number of 'items' of time\n",
    "\n",
    "for item_name in my_iterable:  #for loop syntax\n",
    "    print ('Belal')"
   ]
  },
  {
   "cell_type": "code",
   "execution_count": 3,
   "metadata": {},
   "outputs": [],
   "source": [
    "# avoid using \"list\" as a name of a list in python \n",
    "# the veriable name 'item_name', can be whatever you want. the veriable name is goining to present the actual objects inside an iterable \n",
    "# techincally we don't need to use this veriable name, we can still execute some block of code for every single item in the iterable \n",
    "#    even if the code itself is unrelated to the item ex: print \"hello\" instead, \n",
    "#    the outcome gonna be 'hello' number of items of time \n",
    "# try to choose a variable name related to the object inside the iterable. \n"
   ]
  },
  {
   "cell_type": "markdown",
   "metadata": {},
   "source": [
    "###  For loops in a List"
   ]
  },
  {
   "cell_type": "code",
   "execution_count": 4,
   "metadata": {},
   "outputs": [
    {
     "name": "stdout",
     "output_type": "stream",
     "text": [
      "1\n",
      "2\n",
      "3\n",
      "4\n",
      "5\n",
      "6\n",
      "7\n",
      "8\n",
      "9\n",
      "10\n"
     ]
    }
   ],
   "source": [
    "my_list = [1,2,3,4,5,6,7,8,9,10]\n",
    "\n",
    "for num in my_list: \n",
    "    print(num)"
   ]
  },
  {
   "cell_type": "code",
   "execution_count": 5,
   "metadata": {},
   "outputs": [
    {
     "name": "stdout",
     "output_type": "stream",
     "text": [
      "1\n",
      "2\n",
      "3\n",
      "4\n",
      "5\n",
      "6\n",
      "7\n",
      "8\n",
      "9\n",
      "10\n"
     ]
    }
   ],
   "source": [
    "for x in my_list:\n",
    "    print (x)"
   ]
  },
  {
   "cell_type": "code",
   "execution_count": 6,
   "metadata": {},
   "outputs": [
    {
     "name": "stdout",
     "output_type": "stream",
     "text": [
      "hello\n",
      "hello\n",
      "hello\n",
      "hello\n",
      "hello\n",
      "hello\n",
      "hello\n",
      "hello\n",
      "hello\n",
      "hello\n"
     ]
    }
   ],
   "source": [
    "for num in my_list : \n",
    "    print('hello')"
   ]
  },
  {
   "cell_type": "code",
   "execution_count": 7,
   "metadata": {},
   "outputs": [
    {
     "name": "stdout",
     "output_type": "stream",
     "text": [
      "Odd number: 1\n",
      "2\n",
      "Odd number: 3\n",
      "4\n",
      "Odd number: 5\n",
      "6\n",
      "Odd number: 7\n",
      "8\n",
      "Odd number: 9\n",
      "10\n"
     ]
    }
   ],
   "source": [
    "# let's print just the even number \n",
    "for num in my_list: \n",
    "    if num % 2 == 0:  #check even num \n",
    "        print (num)\n",
    "    else: \n",
    "        print(f'Odd number: {num}')\n",
    "\n",
    "\n",
    "# luckily python is very clean because of the use case of indentation, so everything at the indentation level is inside of this for loop \n",
    "# so this entire block of code is going to execute for every single number in that list \n",
    "# here we can see that print (num) is only going to execute when this if statement is true and else is lined up with this if; \n",
    "#   if this case print (num) else print (odd)"
   ]
  },
  {
   "cell_type": "code",
   "execution_count": 42,
   "metadata": {},
   "outputs": [
    {
     "name": "stdout",
     "output_type": "stream",
     "text": [
      "55\n"
     ]
    }
   ],
   "source": [
    "my_list = [1,2,3,4,5,6,7,8,9,10]\n",
    "\n",
    "list_sum = 0\n",
    "\n",
    "for num in my_list: \n",
    "    list_sum = list_sum + num \n",
    "\n",
    "print (list_sum)\n",
    "\n",
    "# try to put the print statement inside of this loop and see what happens \n",
    "# result: that's whyy indentation and the blank space 'tab' is so important "
   ]
  },
  {
   "cell_type": "markdown",
   "metadata": {},
   "source": [
    "###  For loops in a String"
   ]
  },
  {
   "cell_type": "code",
   "execution_count": 43,
   "metadata": {},
   "outputs": [
    {
     "name": "stdout",
     "output_type": "stream",
     "text": [
      "P\n",
      "e\n",
      "t\n",
      "r\n",
      "o\n",
      "l\n",
      " \n",
      "R\n",
      "a\n",
      "c\n",
      "c\n",
      "o\n",
      "o\n",
      "n\n",
      "s\n"
     ]
    }
   ],
   "source": [
    "# let's try a for loops in a string, strings are a seuqence, so that means we can iterate though them and we'll be accessing each charecter in that string \n",
    "\n",
    "my_string = \"Petrol Raccoons\"\n",
    "str = 'Belal's Phone '\n",
    "for letter in my_string: \n",
    "    print (letter)\n",
    "    "
   ]
  },
  {
   "cell_type": "code",
   "execution_count": 10,
   "metadata": {},
   "outputs": [
    {
     "name": "stdout",
     "output_type": "stream",
     "text": [
      "O\n",
      "r\n",
      "a\n",
      "n\n",
      "g\n",
      "e\n",
      " \n",
      "P\n",
      "i\n",
      "g\n"
     ]
    }
   ],
   "source": [
    "# techincally you don't assign a veriable name to the string. you can do it like that, and get back the exact result\n",
    "\n",
    "for letter in 'Orange Pig': \n",
    "    print(letter)\n",
    "    \n",
    "    "
   ]
  },
  {
   "cell_type": "code",
   "execution_count": 44,
   "metadata": {},
   "outputs": [
    {
     "name": "stdout",
     "output_type": "stream",
     "text": [
      "Cool!\n",
      "Cool!\n",
      "Cool!\n",
      "Cool!\n",
      "Cool!\n",
      "Cool!\n",
      "Cool!\n",
      "Cool!\n",
      "Cool!\n",
      "Cool!\n",
      "Cool!\n",
      "Cool!\n",
      "Cool!\n",
      "Cool!\n",
      "Cool!\n",
      "Cool!\n"
     ]
    }
   ],
   "source": [
    "# again you can call the variable whatever you want no metter what the of as long as you're using the same name\n",
    "# you want to iterate sth a certain amount of times, imagine I want to print 'cool' as many times as there are chareacters there \n",
    "# it's a common syntax for when you don't intend to actually use that variable name as you iterate through. so just use a simple underscore there \n",
    "\n",
    "for _ in 'Petrool Raccoons': \n",
    "    print(\"Cool!\")"
   ]
  },
  {
   "cell_type": "markdown",
   "metadata": {},
   "source": [
    "###  For loops in a Tuple"
   ]
  },
  {
   "cell_type": "code",
   "execution_count": 12,
   "metadata": {},
   "outputs": [
    {
     "name": "stdout",
     "output_type": "stream",
     "text": [
      "1\n",
      "2\n",
      "3\n"
     ]
    }
   ],
   "source": [
    "# iteration for tuple \n",
    "\n",
    "tup = (1,2,3)\n",
    "\n",
    "for item in tup: \n",
    "    print (item)\n",
    "    "
   ]
  },
  {
   "cell_type": "code",
   "execution_count": 46,
   "metadata": {},
   "outputs": [],
   "source": [
    "# list of tuples\n",
    "\n",
    "my_list = [(1,2), (3,4), (5,6), (7,8)]\n"
   ]
  },
  {
   "cell_type": "code",
   "execution_count": 14,
   "metadata": {},
   "outputs": [
    {
     "data": {
      "text/plain": [
       "4"
      ]
     },
     "execution_count": 14,
     "metadata": {},
     "output_type": "execute_result"
    }
   ],
   "source": [
    "len(my_list)"
   ]
  },
  {
   "cell_type": "code",
   "execution_count": 15,
   "metadata": {},
   "outputs": [
    {
     "name": "stdout",
     "output_type": "stream",
     "text": [
      "(1, 2)\n",
      "(3, 4)\n",
      "(5, 6)\n",
      "(7, 8)\n"
     ]
    }
   ],
   "source": [
    "for item in my_list: \n",
    "    print (item)"
   ]
  },
  {
   "cell_type": "code",
   "execution_count": 49,
   "metadata": {},
   "outputs": [
    {
     "name": "stdout",
     "output_type": "stream",
     "text": [
      "1\n",
      "3\n",
      "5\n",
      "7\n"
     ]
    }
   ],
   "source": [
    "# tuple unpacking :\n",
    "\n",
    "for (a,b) in my_list:\n",
    "    print(a)\n",
    "    #print(b)"
   ]
  },
  {
   "cell_type": "code",
   "execution_count": 17,
   "metadata": {},
   "outputs": [
    {
     "name": "stdout",
     "output_type": "stream",
     "text": [
      "2\n",
      "5\n",
      "8\n"
     ]
    }
   ],
   "source": [
    "my_list = [(1,2,3), (4,5,6), (7,8,9)]\n",
    "\n",
    "for a,b,c in my_list:\n",
    "    print(b)"
   ]
  },
  {
   "cell_type": "markdown",
   "metadata": {},
   "source": [
    "###  For loops in a Dictionary "
   ]
  },
  {
   "cell_type": "code",
   "execution_count": 18,
   "metadata": {},
   "outputs": [
    {
     "name": "stdout",
     "output_type": "stream",
     "text": [
      "k1\n",
      "k2\n",
      "k3\n"
     ]
    }
   ],
   "source": [
    "# for loops for dictionary \n",
    "\n",
    "d = {'k1':1, 'k2': 2, 'k3': 3}\n",
    "\n",
    "for item in d:\n",
    "    print(item)\n",
    "    \n",
    "# notice that by defualte when you iterate for dictionary, you only iterate through the keys "
   ]
  },
  {
   "cell_type": "code",
   "execution_count": 19,
   "metadata": {},
   "outputs": [
    {
     "name": "stdout",
     "output_type": "stream",
     "text": [
      "('k1', 1)\n",
      "('k2', 2)\n",
      "('k3', 3)\n"
     ]
    }
   ],
   "source": [
    "# if you want to iterate the items themselves, you need to call \"d.items()\" method \n",
    "\n",
    "for item in d.items():\n",
    "    print(item)\n",
    "    \n",
    "# you get back tuple pairs"
   ]
  },
  {
   "cell_type": "code",
   "execution_count": 20,
   "metadata": {},
   "outputs": [
    {
     "name": "stdout",
     "output_type": "stream",
     "text": [
      "1\n",
      "2\n",
      "3\n"
     ]
    }
   ],
   "source": [
    "# that means you can use tuple unpacking here too \n",
    "# so, if you only need the values \n",
    "\n",
    "for key,value in d.items():\n",
    "    print(value)\n",
    "    \n",
    "# keep in mind when you iterate through a dictionary, there's no guarantee that you get back things in the order you put them in \n"
   ]
  },
  {
   "cell_type": "code",
   "execution_count": 21,
   "metadata": {},
   "outputs": [
    {
     "name": "stdout",
     "output_type": "stream",
     "text": [
      "violet\n",
      "indigo\n",
      "blue\n",
      "green\n",
      "yellow\n",
      "orange\n",
      "red\n"
     ]
    }
   ],
   "source": [
    "# This is an example to demonstrate the syntax of for loop for accessing elements in a list. \n",
    "\n",
    "rainbow = ['violet','indigo','blue','green','yellow','orange','red'] # create a list with strings as values \n",
    "\n",
    "for color in rainbow:\n",
    "    print(color)      "
   ]
  },
  {
   "cell_type": "code",
   "execution_count": 22,
   "metadata": {},
   "outputs": [
    {
     "name": "stdout",
     "output_type": "stream",
     "text": [
      "0 violet\n",
      "1 indigo\n",
      "2 blue\n",
      "3 green\n",
      "4 yellow\n",
      "5 orange\n",
      "6 red\n"
     ]
    }
   ],
   "source": [
    "for color_index,color in enumerate(rainbow): # the enumerate function is used for accessing values as well as their index. \n",
    "    print(color_index, color)"
   ]
  },
  {
   "cell_type": "markdown",
   "metadata": {},
   "source": [
    "## While Loop"
   ]
  },
  {
   "cell_type": "code",
   "execution_count": 23,
   "metadata": {},
   "outputs": [],
   "source": [
    "# while loops will continue to execute a block of code while some condition remains true. \n",
    "# for ex: while my pool is not full, keep filling my pool with water \n",
    "# or while my dogs are still hungry, keep feeding my dogs \n",
    "\n",
    "# syntax of a while a loop, it's quite simple \n",
    "    # while some_boolean_condition: \n",
    "        # do something\n",
    "    # else : \n",
    "        # do something different "
   ]
  },
  {
   "cell_type": "code",
   "execution_count": 24,
   "metadata": {},
   "outputs": [
    {
     "name": "stdout",
     "output_type": "stream",
     "text": [
      "The current value of x is 0\n",
      "The current value of x is 1\n",
      "The current value of x is 2\n",
      "The current value of x is 3\n",
      "The current value of x is 4\n"
     ]
    }
   ],
   "source": [
    "x = 0\n",
    "\n",
    "while x < 5: \n",
    "    print (f'The current value of x is {x}') # don't run it, it runs over and over cuz x isn't changing, if I run it now it's going to run for infinity \n",
    "    x = x + 1\n",
    "    # x += 1"
   ]
  },
  {
   "cell_type": "code",
   "execution_count": 25,
   "metadata": {},
   "outputs": [
    {
     "name": "stdout",
     "output_type": "stream",
     "text": [
      "The current value of x is 0\n",
      "The current value of x is 1\n",
      "The current value of x is 2\n",
      "The current value of x is 3\n",
      "The current value of x is 4\n",
      "X is not less than 5\n"
     ]
    }
   ],
   "source": [
    "x = 0\n",
    "\n",
    "while x < 5: \n",
    "    print (f'The current value of x is {x}') \n",
    "    x = x + 1\n",
    "else : \n",
    "    print ( \"X is not less than 5\")"
   ]
  },
  {
   "cell_type": "code",
   "execution_count": 26,
   "metadata": {},
   "outputs": [],
   "source": [
    "# break, continue, pass \n",
    "# there are 3 statements defined by: \n",
    "   \n",
    "#     break : breaks out of the current closest enclosing loop \n",
    "#     continue : goes to the top of the closest enclosing loop \n",
    "#     pass : does nothing at all "
   ]
  },
  {
   "cell_type": "code",
   "execution_count": 27,
   "metadata": {},
   "outputs": [],
   "source": [
    "x = [1,2,3]\n",
    "\n",
    "for item in x : \n",
    "    # you have to write sth here or you get back an error \n",
    "    # so you can put 'pass' here which do nothing at all but avoiding the error!\n",
    "    pass\n"
   ]
  },
  {
   "cell_type": "code",
   "execution_count": 28,
   "metadata": {},
   "outputs": [
    {
     "name": "stdout",
     "output_type": "stream",
     "text": [
      "M\n",
      "u\n",
      "a\n",
      "y\n",
      "a\n",
      "d\n"
     ]
    }
   ],
   "source": [
    "mystring = 'Muayad'\n",
    "for letter in mystring: \n",
    "    print (letter)"
   ]
  },
  {
   "cell_type": "code",
   "execution_count": 29,
   "metadata": {},
   "outputs": [
    {
     "name": "stdout",
     "output_type": "stream",
     "text": [
      "M\n",
      "u\n",
      "y\n",
      "d\n"
     ]
    }
   ],
   "source": [
    "# let's assume that I don't want lettter 'a' to be printed \n",
    "for letter in mystring: \n",
    "    if letter == 'a' : \n",
    "        continue\n",
    "    print (letter)\n"
   ]
  },
  {
   "cell_type": "code",
   "execution_count": 30,
   "metadata": {},
   "outputs": [
    {
     "name": "stdout",
     "output_type": "stream",
     "text": [
      "M\n",
      "u\n"
     ]
    }
   ],
   "source": [
    "for letter in mystring: \n",
    "    if letter == 'a' : \n",
    "        break\n",
    "    print (letter)"
   ]
  },
  {
   "cell_type": "code",
   "execution_count": 31,
   "metadata": {},
   "outputs": [
    {
     "name": "stdout",
     "output_type": "stream",
     "text": [
      "0\n",
      "1\n"
     ]
    }
   ],
   "source": [
    "x = 0\n",
    "\n",
    "while x <= 5: \n",
    "    if x == 2:\n",
    "        break  \n",
    "    print (x)\n",
    "    x += 1 \n"
   ]
  },
  {
   "cell_type": "code",
   "execution_count": 51,
   "metadata": {},
   "outputs": [
    {
     "ename": "KeyboardInterrupt",
     "evalue": "Interrupted by user",
     "output_type": "error",
     "traceback": [
      "\u001b[0;31m---------------------------------------------------------------------------\u001b[0m",
      "\u001b[0;31mKeyboardInterrupt\u001b[0m                         Traceback (most recent call last)",
      "\u001b[1;32m/Users/ms/Desktop/Boot Camp /CAB/Python/loops.ipynb Cell 40\u001b[0m in \u001b[0;36m<cell line: 3>\u001b[0;34m()\u001b[0m\n\u001b[1;32m      <a href='vscode-notebook-cell:/Users/ms/Desktop/Boot%20Camp%20/CAB/Python/loops.ipynb#X54sZmlsZQ%3D%3D?line=0'>1</a>\u001b[0m rainbow \u001b[39m=\u001b[39m [\u001b[39m'\u001b[39m\u001b[39mred\u001b[39m\u001b[39m'\u001b[39m, \u001b[39m'\u001b[39m\u001b[39morange\u001b[39m\u001b[39m'\u001b[39m, \u001b[39m'\u001b[39m\u001b[39myellow\u001b[39m\u001b[39m'\u001b[39m, \u001b[39m'\u001b[39m\u001b[39mgreen\u001b[39m\u001b[39m'\u001b[39m, \u001b[39m'\u001b[39m\u001b[39mblue\u001b[39m\u001b[39m'\u001b[39m, \u001b[39m'\u001b[39m\u001b[39mindigo\u001b[39m\u001b[39m'\u001b[39m, \u001b[39m'\u001b[39m\u001b[39mviolet\u001b[39m\u001b[39m'\u001b[39m]\n\u001b[0;32m----> <a href='vscode-notebook-cell:/Users/ms/Desktop/Boot%20Camp%20/CAB/Python/loops.ipynb#X54sZmlsZQ%3D%3D?line=2'>3</a>\u001b[0m my_colour \u001b[39m=\u001b[39m \u001b[39mstr\u001b[39m(\u001b[39minput\u001b[39;49m(\u001b[39m\"\u001b[39;49m\u001b[39mType a colour name: \u001b[39;49m\u001b[39m\"\u001b[39;49m))\n\u001b[1;32m      <a href='vscode-notebook-cell:/Users/ms/Desktop/Boot%20Camp%20/CAB/Python/loops.ipynb#X54sZmlsZQ%3D%3D?line=4'>5</a>\u001b[0m \u001b[39mwhile\u001b[39;00m my_colour \u001b[39min\u001b[39;00m rainbow:\n\u001b[1;32m      <a href='vscode-notebook-cell:/Users/ms/Desktop/Boot%20Camp%20/CAB/Python/loops.ipynb#X54sZmlsZQ%3D%3D?line=5'>6</a>\u001b[0m   \u001b[39mprint\u001b[39m(my_colour \u001b[39m+\u001b[39m \u001b[39m\"\u001b[39m\u001b[39m is a colour of the rainbow\u001b[39m\u001b[39m\"\u001b[39m)\n",
      "File \u001b[0;32m~/opt/anaconda3/lib/python3.9/site-packages/ipykernel/kernelbase.py:1075\u001b[0m, in \u001b[0;36mKernel.raw_input\u001b[0;34m(self, prompt)\u001b[0m\n\u001b[1;32m   1071\u001b[0m \u001b[39mif\u001b[39;00m \u001b[39mnot\u001b[39;00m \u001b[39mself\u001b[39m\u001b[39m.\u001b[39m_allow_stdin:\n\u001b[1;32m   1072\u001b[0m     \u001b[39mraise\u001b[39;00m StdinNotImplementedError(\n\u001b[1;32m   1073\u001b[0m         \u001b[39m\"\u001b[39m\u001b[39mraw_input was called, but this frontend does not support input requests.\u001b[39m\u001b[39m\"\u001b[39m\n\u001b[1;32m   1074\u001b[0m     )\n\u001b[0;32m-> 1075\u001b[0m \u001b[39mreturn\u001b[39;00m \u001b[39mself\u001b[39;49m\u001b[39m.\u001b[39;49m_input_request(\n\u001b[1;32m   1076\u001b[0m     \u001b[39mstr\u001b[39;49m(prompt),\n\u001b[1;32m   1077\u001b[0m     \u001b[39mself\u001b[39;49m\u001b[39m.\u001b[39;49m_parent_ident[\u001b[39m\"\u001b[39;49m\u001b[39mshell\u001b[39;49m\u001b[39m\"\u001b[39;49m],\n\u001b[1;32m   1078\u001b[0m     \u001b[39mself\u001b[39;49m\u001b[39m.\u001b[39;49mget_parent(\u001b[39m\"\u001b[39;49m\u001b[39mshell\u001b[39;49m\u001b[39m\"\u001b[39;49m),\n\u001b[1;32m   1079\u001b[0m     password\u001b[39m=\u001b[39;49m\u001b[39mFalse\u001b[39;49;00m,\n\u001b[1;32m   1080\u001b[0m )\n",
      "File \u001b[0;32m~/opt/anaconda3/lib/python3.9/site-packages/ipykernel/kernelbase.py:1120\u001b[0m, in \u001b[0;36mKernel._input_request\u001b[0;34m(self, prompt, ident, parent, password)\u001b[0m\n\u001b[1;32m   1117\u001b[0m             \u001b[39mbreak\u001b[39;00m\n\u001b[1;32m   1118\u001b[0m \u001b[39mexcept\u001b[39;00m \u001b[39mKeyboardInterrupt\u001b[39;00m:\n\u001b[1;32m   1119\u001b[0m     \u001b[39m# re-raise KeyboardInterrupt, to truncate traceback\u001b[39;00m\n\u001b[0;32m-> 1120\u001b[0m     \u001b[39mraise\u001b[39;00m \u001b[39mKeyboardInterrupt\u001b[39;00m(\u001b[39m\"\u001b[39m\u001b[39mInterrupted by user\u001b[39m\u001b[39m\"\u001b[39m) \u001b[39mfrom\u001b[39;00m \u001b[39mNone\u001b[39m\n\u001b[1;32m   1121\u001b[0m \u001b[39mexcept\u001b[39;00m \u001b[39mException\u001b[39;00m:\n\u001b[1;32m   1122\u001b[0m     \u001b[39mself\u001b[39m\u001b[39m.\u001b[39mlog\u001b[39m.\u001b[39mwarning(\u001b[39m\"\u001b[39m\u001b[39mInvalid Message:\u001b[39m\u001b[39m\"\u001b[39m, exc_info\u001b[39m=\u001b[39m\u001b[39mTrue\u001b[39;00m)\n",
      "\u001b[0;31mKeyboardInterrupt\u001b[0m: Interrupted by user"
     ]
    }
   ],
   "source": [
    "rainbow = ['red', 'orange', 'yellow', 'green', 'blue', 'indigo', 'violet']\n",
    "\n",
    "my_colour = str(input(\"Type a colour name: \"))\n",
    "\n",
    "while my_colour in rainbow:\n",
    "  print(my_colour + \" is a colour of the rainbow\")\n",
    "  break\n",
    "else:\n",
    "  print(my_colour + \" is not a colour of the rainbow\")\n",
    "  "
   ]
  },
  {
   "cell_type": "code",
   "execution_count": 52,
   "metadata": {},
   "outputs": [
    {
     "name": "stdout",
     "output_type": "stream",
     "text": [
      "4\n",
      "5\n",
      "6\n",
      "7\n",
      "8\n",
      "9\n",
      "10\n"
     ]
    }
   ],
   "source": [
    "# while loop to display numbers\n",
    "\n",
    "# initialize variable\n",
    "i = 4\n",
    "\n",
    "while i <= 10:\n",
    "    print(i)\n",
    "    #i = i + 1\n",
    "\n",
    "    i += 1"
   ]
  },
  {
   "cell_type": "code",
   "execution_count": 34,
   "metadata": {},
   "outputs": [
    {
     "name": "stdout",
     "output_type": "stream",
     "text": [
      "0\n",
      "1\n",
      "2\n",
      "3\n",
      "4\n",
      "5\n",
      "6\n",
      "7\n",
      "8\n",
      "9\n",
      "10\n",
      "11\n",
      "12\n"
     ]
    }
   ],
   "source": [
    "# while loop to display all numbers between a range.\n",
    "\n",
    "i = 0\n",
    "n = 12 # initialize variables to define range.\n",
    "\n",
    "while i <= n:\n",
    "    print(i)\n",
    "    i = i + 1"
   ]
  },
  {
   "cell_type": "code",
   "execution_count": 35,
   "metadata": {},
   "outputs": [
    {
     "name": "stdout",
     "output_type": "stream",
     "text": [
      "Original:  ['Ford', 'BMW', 'Volvo', 'Kia', 'Merc', 'Audi']\n",
      "Sorted:  ['Audi', 'BMW', 'Ford', 'Kia', 'Merc', 'Volvo'] \n",
      "\n",
      "This is car number 0 : Audi \n",
      "\n",
      "This is car number 1 : BMW \n",
      "\n",
      "This is car number 2 : Ford \n",
      "\n",
      "This is car number 3 : Kia \n",
      "\n",
      "This is car number 4 : Merc \n",
      "\n",
      "This is car number 5 : Volvo \n",
      "\n"
     ]
    }
   ],
   "source": [
    "cars = ['Ford', 'BMW', 'Volvo', 'Kia', 'Merc', 'Audi']\n",
    "\n",
    "print(\"Original: \", cars)\n",
    "\n",
    "cars.sort() # Shows what's within the parantheses.\n",
    "print(\"Sorted: \", cars, \"\\n\")\n",
    "\n",
    "for car in cars:\n",
    "    print(\"This is car number\", cars.index(car), \":\", car, \"\\n\")"
   ]
  },
  {
   "cell_type": "code",
   "execution_count": 36,
   "metadata": {},
   "outputs": [
    {
     "data": {
      "text/plain": [
       "['Audi', 'BMW', 'Ford', 'Kia', 'Merc', 'Volvo']"
      ]
     },
     "execution_count": 36,
     "metadata": {},
     "output_type": "execute_result"
    }
   ],
   "source": [
    "cars"
   ]
  },
  {
   "cell_type": "code",
   "execution_count": 37,
   "metadata": {},
   "outputs": [],
   "source": [
    "my_friends_ages = [23, 6, 8, 34, 67]\n"
   ]
  },
  {
   "cell_type": "code",
   "execution_count": 38,
   "metadata": {},
   "outputs": [
    {
     "data": {
      "text/plain": [
       "67"
      ]
     },
     "execution_count": 38,
     "metadata": {},
     "output_type": "execute_result"
    }
   ],
   "source": [
    "max(my_friends_ages)"
   ]
  },
  {
   "cell_type": "code",
   "execution_count": null,
   "metadata": {},
   "outputs": [],
   "source": []
  }
 ],
 "metadata": {
  "kernelspec": {
   "display_name": "Python 3.9.12 ('base')",
   "language": "python",
   "name": "python3"
  },
  "language_info": {
   "codemirror_mode": {
    "name": "ipython",
    "version": 3
   },
   "file_extension": ".py",
   "mimetype": "text/x-python",
   "name": "python",
   "nbconvert_exporter": "python",
   "pygments_lexer": "ipython3",
   "version": "3.9.12"
  },
  "orig_nbformat": 4,
  "vscode": {
   "interpreter": {
    "hash": "4bc4bde731375933d7a29667915b2b90320d63246ea00ff3878f9f21b2d3da7b"
   }
  }
 },
 "nbformat": 4,
 "nbformat_minor": 2
}
