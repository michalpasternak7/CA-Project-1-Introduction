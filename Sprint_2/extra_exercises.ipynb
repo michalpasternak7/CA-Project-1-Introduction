{
 "cells": [
  {
   "cell_type": "markdown",
   "metadata": {},
   "source": [
    "Q1. Chocolate firm chocoBury wants to do smart advertisement for their newly\n",
    "launched chocolate brand across Germany in 2019 and target right aged customers.\n",
    "They have collected the years of birth of all of the customers and want to calculate\n",
    "their respective age.\n",
    "\n",
    "Given below is a list of 10 customers with year of birth, however, the list can be as\n",
    "large as several thousands of customers.\n",
    "\n",
    "[1999, 1995, 2005, 2010, 2007, 2006, 1994, 1996, 1979, 2008]\n",
    "\n",
    "The task is to write a function that returns the age of customers.\n",
    "\n",
    "Sample input: [1999, 1995, 2005, 2010, 2007, 2006, 1994, 1996, 1979, 2008]\n",
    "Sample output: [20, 24, 14, 9, 12, 13, 25, 23, 40, 11]"
   ]
  },
  {
   "cell_type": "code",
   "execution_count": 33,
   "metadata": {},
   "outputs": [
    {
     "name": "stdout",
     "output_type": "stream",
     "text": [
      "[20, 24, 14, 9, 12, 13, 25, 23, 40, 11]\n"
     ]
    }
   ],
   "source": [
    "year_of_birth = [1999, 1995, 2005, 2010, 2007, 2006, 1994, 1996, 1979, 2008]\n",
    "current_year = 2019\n",
    "\n",
    "def calculate_age(year_of_birth, current_year):\n",
    "    ages = []\n",
    "\n",
    "    for year in year_of_birth:\n",
    "        ages.append(current_year - year)\n",
    "    \n",
    "    return ages\n",
    "\n",
    "ages = calculate_age(year_of_birth, current_year)\n",
    "print(ages)\n",
    "\n"
   ]
  },
  {
   "cell_type": "markdown",
   "metadata": {},
   "source": [
    "Q2. It costs much for the chocolate firm chocoBury to do marketing for wide range of\n",
    "customers. To save money, they want to narrow down the range of ages obtained in\n",
    "previous list.\n",
    "\n",
    "Also, the oldest person and youngest person do not truly represent the targeted\n",
    "group for marketing campaign and they can be considered as outliers.\n",
    "\n",
    "The task is to write a function that removes the outliers (the oldest and youngest\n",
    "person’s age) and return the new list with age of 8 persons (in this case which\n",
    "contains data for 10 customers initially).\n",
    "\n",
    "Sample input: [20, 24, 14, 9, 12, 13, 25, 23, 40, 11]\n",
    "Sample output: [20, 24, 14, 12, 13, 25, 23, 11]"
   ]
  },
  {
   "cell_type": "code",
   "execution_count": 34,
   "metadata": {},
   "outputs": [],
   "source": [
    "def remove_outliers_slicing(ages):\n",
    "    ages.sort()\n",
    "    return ages[1:-1]"
   ]
  },
  {
   "cell_type": "code",
   "execution_count": 35,
   "metadata": {},
   "outputs": [],
   "source": [
    "def remove_outliers(ages):\n",
    "    max_age = -1\n",
    "    min_age = 200\n",
    "\n",
    "    for age in ages:\n",
    "        if age > max_age:\n",
    "            max_age = age\n",
    "        if age < min_age:\n",
    "            min_age = age\n",
    "    \n",
    "    ages.remove(max_age)\n",
    "    ages.remove(min_age)\n",
    "    \n",
    "    return(ages)"
   ]
  },
  {
   "cell_type": "code",
   "execution_count": 36,
   "metadata": {},
   "outputs": [
    {
     "name": "stdout",
     "output_type": "stream",
     "text": [
      "[20, 24, 14, 12, 13, 25, 23, 11]\n"
     ]
    }
   ],
   "source": [
    "ages = remove_outliers(ages)\n",
    "print(ages)"
   ]
  },
  {
   "cell_type": "markdown",
   "metadata": {},
   "source": [
    "Q3. The chocolate firm chocoBury did the survey of customers in Berlin and Munich\n",
    "separately and came up with the following lists of the age of customers.\n",
    "\n",
    "berlin = [15, 13, 16, 18, 19, 10, 12 ]\n",
    "munich = [7, 13, 15, 20, 19, 18, 10, 16]\n",
    "\n",
    "However, marketing manager Henry thinks that a single list would be better to look\n",
    "at rather than having different lists from these 2 cities. So, Henry wants to have a\n",
    "common list from these 2 cities.\n",
    "\n",
    "The task is to write a function that takes these 2 lists as input and returns the\n",
    "common age values.\n",
    "\n",
    "Sample input: [15, 13, 16, 18, 19, 10, 12 ], [7, 13, 15, 20, 19, 18, 10, 16]\n",
    "\n",
    "Sample output: [15,13,16,18,19,10]"
   ]
  },
  {
   "cell_type": "code",
   "execution_count": 37,
   "metadata": {},
   "outputs": [
    {
     "name": "stdout",
     "output_type": "stream",
     "text": [
      "[15, 13, 16, 18, 19, 10]\n"
     ]
    }
   ],
   "source": [
    "berlin = [15, 13, 16, 18, 19, 10, 12 ]\n",
    "munich = [7, 13, 15, 20, 19, 18, 10, 16]\n",
    "\n",
    "def common_ages(a, b):\n",
    "    common = [age for age in a if age in b]\n",
    "    return common\n",
    "\n",
    "common = common_ages(berlin, munich)\n",
    "print(common)"
   ]
  },
  {
   "cell_type": "markdown",
   "metadata": {},
   "source": [
    "Q5. Henry generally asks software developer Mark if a certain age value is present in\n",
    "the list of customer ages or not. However, Henry, a busy manager, often forgets what\n",
    "Mark replies and asks the same question sometimes multiple times.\n",
    "\n",
    "Mark, a smart guy, thinks it is too boring for him and hence, he thinks why not he\n",
    "creates a function which will listen to Henry's query and read through the age list &\n",
    "finally reply back to Henry if that age is present or not in the list.\n",
    "\n",
    "The task is to write a function that takes an input list and value of age to find as input\n",
    "and return true or false if the age value is present or not.\n",
    "\n",
    "Sample input: [15,13,16,18,19,15,10], 15\n",
    "Sample output: True\n",
    "\n",
    "Sample input: [15,13,16,18,19,15,10], 28\n",
    "Sample output: False"
   ]
  },
  {
   "cell_type": "code",
   "execution_count": 38,
   "metadata": {},
   "outputs": [
    {
     "name": "stdout",
     "output_type": "stream",
     "text": [
      "True\n",
      "False\n"
     ]
    }
   ],
   "source": [
    "age_1 = 15\n",
    "age_2 = 28\n",
    "ages = [15,13,16,18,19,15,10]\n",
    "\n",
    "def age_in_list(age, ages):\n",
    "    return age in ages\n",
    "\n",
    "print(age_in_list(age_1, ages))\n",
    "print(age_in_list(age_2, ages))"
   ]
  },
  {
   "cell_type": "markdown",
   "metadata": {},
   "source": [
    "# SET 1"
   ]
  },
  {
   "cell_type": "markdown",
   "metadata": {},
   "source": [
    "1. You are given an array (which will have a length of at least 3, but could be very\n",
    "large) containing integers. The array is either entirely comprised of odd integers or\n",
    "entirely comprised of even integers except for a single integer N.\n",
    "\n",
    "Write a method that takes the array as an argument and returns this “outlier” N.\n",
    "\n",
    "Sample test cases:\n",
    "[2, 4, 0, 100, 4, 11, 2602, 36]\n",
    "Should return: 11 (the only odd number)\n",
    "\n",
    "[160, 3, 1719, 19, 11, 13, -21]\n",
    "Should return: 160 (the only even number)\n",
    "\n",
    "find_outlier([2, 4, 6, 8, 10, 3])\n",
    "Should return: 3"
   ]
  },
  {
   "cell_type": "markdown",
   "metadata": {},
   "source": [
    "# There is an error in the exercise above. The task is to write a method, but the example shows a function."
   ]
  },
  {
   "cell_type": "code",
   "execution_count": 72,
   "metadata": {},
   "outputs": [],
   "source": [
    "sample_1 = [2, 4, 0, 100, 4, 11, 2602, 36]\n",
    "sample_2 = [160, 3, 1719, 19, 11, 13, -21]\n",
    "sample_3 = [2, 4, 6, 8, 10, 3]"
   ]
  },
  {
   "cell_type": "code",
   "execution_count": 40,
   "metadata": {},
   "outputs": [],
   "source": [
    "def find_outlier(array):\n",
    "\n",
    "    # generate a list denoting if a number is even (0) or odd (1)\n",
    "    even = [i % 2 for i in array]\n",
    "    \n",
    "    # check whether the majority is even (0) or odd (1)\n",
    "    outlier = min(set(even), key = even.count)\n",
    "\n",
    "    # find the index of the outlier in the list denoting if an element is even or not and return the number from the same index in the original array\n",
    "    return array[even.index(outlier)]\n",
    "\n",
    "\n"
   ]
  },
  {
   "cell_type": "code",
   "execution_count": 76,
   "metadata": {},
   "outputs": [],
   "source": [
    "def find_outlier(array):\n",
    "\n",
    "    odd = [num for num in array if num % 2 == 1]\n",
    "    even = [num for num in array if num % 2 == 0]\n",
    "\n",
    "    if len(odd) < len(even):\n",
    "        return odd[0]\n",
    "    else:\n",
    "        return even[0]\n"
   ]
  },
  {
   "cell_type": "code",
   "execution_count": 73,
   "metadata": {},
   "outputs": [],
   "source": [
    "def find_outlier(data):\n",
    "    even = []\n",
    "    odd = []\n",
    "\n",
    "    for i in data:\n",
    "        if i % 2 == 0:\n",
    "            even.append(i)\n",
    "        elif i % 2 != 0:\n",
    "            odd.append(i)\n",
    "\n",
    "    if len(even) > len(odd):\n",
    "        return odd[0]\n",
    "    else:\n",
    "        return even[0]"
   ]
  },
  {
   "cell_type": "code",
   "execution_count": 74,
   "metadata": {},
   "outputs": [
    {
     "name": "stdout",
     "output_type": "stream",
     "text": [
      "11\n",
      "160\n",
      "3\n"
     ]
    }
   ],
   "source": [
    "print(find_outlier(sample_1))\n",
    "print(find_outlier(sample_2))\n",
    "print(find_outlier(sample_3))"
   ]
  },
  {
   "cell_type": "markdown",
   "metadata": {},
   "source": [
    "2. Your goal in this task is to implement a difference function, which subtracts one\n",
    "list from another and returns the result.\n",
    "\n",
    "It should remove all values from list a, which are present in list b.\n",
    "\n",
    "Lets call the function array_diff ( a , b )\n",
    "\n",
    "Sample test cases:\n",
    "array_diff([1,2],[1]) will return [2]\n",
    "array_diff([1,2,2], [2]) will return [1]"
   ]
  },
  {
   "cell_type": "code",
   "execution_count": 42,
   "metadata": {},
   "outputs": [],
   "source": [
    "def array_diff(a, b):\n",
    "    return [i for i in a if i not in b]"
   ]
  },
  {
   "cell_type": "code",
   "execution_count": 77,
   "metadata": {},
   "outputs": [],
   "source": [
    "def array_diff(lst1, lst2):\n",
    "    ans_lst = []\n",
    "    for val in lst1:\n",
    "        if val not in lst2:\n",
    "            ans_lst.append(val)\n",
    "    return ans_lst"
   ]
  },
  {
   "cell_type": "code",
   "execution_count": 78,
   "metadata": {},
   "outputs": [
    {
     "name": "stdout",
     "output_type": "stream",
     "text": [
      "[2]\n",
      "[1]\n"
     ]
    }
   ],
   "source": [
    "print(array_diff([1,2],[1]))\n",
    "print(array_diff([1,2,2], [2]))"
   ]
  },
  {
   "cell_type": "markdown",
   "metadata": {},
   "source": [
    "3. Given: an array containing hashes of names\n",
    "Return: a string formatted as a list of names separated by commas except for the last\n",
    "two names, which should be separated by an ampersand.\n",
    "\n",
    "Example:\n",
    "\n",
    "namelist([ {‘name': ‘Bart'}, {‘name': ‘Lisa'}, {‘name': ‘Maggie'} ])\n",
    "returns ‘Bart, Lisa & Maggie‘\n",
    "\n",
    "namelist([ {‘name': ‘Bart'}, {‘name': ‘Lisa'} ])\n",
    "returns ‘Bart & Lisa‘\n",
    "\n",
    "namelist([ {‘name': ‘Bart'} ])\n",
    "returns ‘Bart‘\n",
    "\n",
    "namelist([])\n",
    "returns ”"
   ]
  },
  {
   "cell_type": "code",
   "execution_count": 79,
   "metadata": {},
   "outputs": [],
   "source": [
    "def namelist(list_of_names):\n",
    "    \n",
    "    # transfer all names to a list\n",
    "    names = [name['name'] for name in list_of_names]\n",
    "    \n",
    "    # based on the length of the list, adjust what's printed\n",
    "    if len(names) >= 2:\n",
    "        return ', '.join(name for name in names[:-1]) + ' & ' + names[-1]\n",
    "    elif len(names) == 1:\n",
    "        return ''.join(name for name in names)\n",
    "    else:\n",
    "        return ''"
   ]
  },
  {
   "cell_type": "code",
   "execution_count": 81,
   "metadata": {},
   "outputs": [],
   "source": [
    "# Bilel\n",
    "_names = [{'name': 'Bart'}, {'name': 'Lisa'}, {'name': 'Maggie'},]\n",
    "\n",
    "def namelist(data):\n",
    "    l = []\n",
    "    for names in data:\n",
    "        a = names['name']\n",
    "        l.append(a)\n",
    "    \n",
    "    if len(l) == 1:\n",
    "        return l[0]\n",
    "    elif len(l) == 2:\n",
    "        return f\"{l[0]} & {l[1]}\"\n",
    "    elif len(l) > 2:\n",
    "        return f\"{l[0]}, {l[1]} & {l[2]}\"\n",
    "    elif len(l) == 0:\n",
    "        return f' \" '"
   ]
  },
  {
   "cell_type": "code",
   "execution_count": 89,
   "metadata": {},
   "outputs": [],
   "source": [
    "#intermediate 3 - Barry\n",
    "def namelist(data):\n",
    "    lst = []\n",
    "    for names in data:\n",
    "        lst.append(names['name'])\n",
    "    \n",
    "    if len(lst) == 1:\n",
    "        return lst[0]\n",
    "    elif len(lst) == 2:\n",
    "        return f'{lst[0]} & {lst[1]}'\n",
    "    elif len(lst) == 0:\n",
    "        return ''\n",
    "    else:\n",
    "        ans_string = ''\n",
    "        for val in lst[:-1]:\n",
    "            ans_string += (f'{val}, ')\n",
    "        ans_string += f' & {lst[-1]}'\n",
    "        return ans_string"
   ]
  },
  {
   "cell_type": "code",
   "execution_count": 93,
   "metadata": {},
   "outputs": [
    {
     "name": "stdout",
     "output_type": "stream",
     "text": [
      "Bart, Lisa, Maggie,  & Bilel\n",
      "Bart & Lisa\n",
      "Bart\n",
      "\n"
     ]
    }
   ],
   "source": [
    "print(namelist([{'name':'Bart'}, {'name':'Lisa'}, {'name':'Maggie'}, {'name':'Bilel'}]))\n",
    "print(namelist([{'name':'Bart'}, {'name':'Lisa'}]))\n",
    "print(namelist([{'name':'Bart'}]))\n",
    "print(namelist([]))"
   ]
  },
  {
   "cell_type": "markdown",
   "metadata": {},
   "source": [
    "4. In this task, create a function that takes a list of non-negative integers and strings\n",
    "and returns a new list with the strings filtered out.\n",
    "\n",
    "Example\n",
    "- filter_list([1,2,'a','b']) == [1,2]\n",
    "- filter_list([1,'a','b',0,15]) == [1,0,15]\n",
    "- filter_list([1,2,'aasf','1′,'123′,123]) == [1,2,123]"
   ]
  },
  {
   "cell_type": "code",
   "execution_count": 100,
   "metadata": {},
   "outputs": [],
   "source": [
    "def filter_list(l):\n",
    "    return [elem for elem in l if not isinstance(elem, str)]"
   ]
  },
  {
   "cell_type": "code",
   "execution_count": 98,
   "metadata": {},
   "outputs": [],
   "source": [
    "# Barry\n",
    "def filter_list(lst):\n",
    "    ans_lst = []\n",
    "    num_lst = [1,2,3,4,5,6,7,8,9,0]\n",
    "    for val in lst:\n",
    "        if val in num_lst:\n",
    "            ans_lst.append(val)\n",
    "    return ans_lst"
   ]
  },
  {
   "cell_type": "code",
   "execution_count": 105,
   "metadata": {},
   "outputs": [],
   "source": [
    "def filter_list(data):\n",
    "    a = []\n",
    "    for i in data:\n",
    "       if type(i) == int and i >= 0:\n",
    "           a.append(i)\n",
    "    return a"
   ]
  },
  {
   "cell_type": "code",
   "execution_count": 108,
   "metadata": {},
   "outputs": [
    {
     "name": "stdout",
     "output_type": "stream",
     "text": [
      "[1, 2]\n",
      "[1, 0, 15]\n",
      "[1, 2]\n"
     ]
    }
   ],
   "source": [
    "print(filter_list([1,2,'a','b']))\n",
    "print(filter_list([1,'a','b',0,15]))\n",
    "print(filter_list([1,2,'aasf','1','123',-123]))"
   ]
  },
  {
   "cell_type": "markdown",
   "metadata": {},
   "source": [
    "5. Given an array, find the int that appears an odd number of times.\n",
    "There will always be only one integer that appears an odd number of times.\n",
    "\n",
    "Example\n",
    "find_it([20,1,-1,2,-2,3,3,5,5,1,2,4,20,4,-1,-2,5])\n",
    "returns 5"
   ]
  },
  {
   "cell_type": "code",
   "execution_count": 48,
   "metadata": {},
   "outputs": [],
   "source": [
    "# solution with counter\n",
    "from collections import Counter\n",
    "\n",
    "def find_it(list_of_nums):\n",
    "    for i, c in Counter(list_of_nums).items():\n",
    "        if c % 2:\n",
    "            return i"
   ]
  },
  {
   "cell_type": "code",
   "execution_count": 49,
   "metadata": {},
   "outputs": [],
   "source": [
    "# solution without imports\n",
    "def find_it(list_of_nums):\n",
    "    counter = {}\n",
    "\n",
    "    for num in list_of_nums:\n",
    "        if num in counter:\n",
    "            counter[num] = counter[num] + 1\n",
    "        else:\n",
    "            counter[num] = 1\n",
    "    \n",
    "    for num in counter:\n",
    "        if counter[num] % 2:\n",
    "            return num"
   ]
  },
  {
   "cell_type": "code",
   "execution_count": 50,
   "metadata": {},
   "outputs": [],
   "source": [
    "# short solution\n",
    "def find_it(list_of_nums):\n",
    "    for num in set(list_of_nums):\n",
    "        if list_of_nums.count(num) % 2:\n",
    "            return num"
   ]
  },
  {
   "cell_type": "code",
   "execution_count": 109,
   "metadata": {},
   "outputs": [],
   "source": [
    "# Barry\n",
    "def find_it(lst):\n",
    "    for val in lst:\n",
    "        if lst.count(val) % 2 == 1:\n",
    "            return val"
   ]
  },
  {
   "cell_type": "code",
   "execution_count": 110,
   "metadata": {},
   "outputs": [
    {
     "data": {
      "text/plain": [
       "5"
      ]
     },
     "execution_count": 110,
     "metadata": {},
     "output_type": "execute_result"
    }
   ],
   "source": [
    "find_it([20,1,-1,2,-2,3,3,5,5,1,2,4,20,4,-1,-2,5])"
   ]
  },
  {
   "cell_type": "markdown",
   "metadata": {},
   "source": [
    "6. Check to see if a string has the same amount of 'x's and 'o's. The method must\n",
    "return a boolean and be case insensitive. The string can contain any char.\n",
    "\n",
    "Examples input/output:\n",
    "- XO(“ooxx”) => true\n",
    "- XO(“xooxx”) => false\n",
    "- XO(“ooxXm”) => true\n",
    "- XO(“zpzpzpp”) => true // when no ‘x' and ‘o' is present should return true\n",
    "- XO(“zzoo”) => false"
   ]
  },
  {
   "cell_type": "code",
   "execution_count": 52,
   "metadata": {},
   "outputs": [],
   "source": [
    "# solution with counter\n",
    "from collections import Counter\n",
    "\n",
    "def XO(string):\n",
    "    counted = Counter(string.lower())\n",
    "    return counted['x'] == counted['o']"
   ]
  },
  {
   "cell_type": "code",
   "execution_count": 53,
   "metadata": {},
   "outputs": [],
   "source": [
    "# solution without imports\n",
    "def XO(string):\n",
    "    return string.lower().count('x') == string.lower().count('o')"
   ]
  },
  {
   "cell_type": "code",
   "execution_count": 121,
   "metadata": {},
   "outputs": [],
   "source": [
    "# Barry\n",
    "def XO(str):\n",
    "    str = str.lower()\n",
    "    o_count = str.count('o')\n",
    "    x_count = str.count('x')\n",
    "    if o_count == x_count:\n",
    "        return True\n",
    "    else:\n",
    "        return False"
   ]
  },
  {
   "cell_type": "code",
   "execution_count": 122,
   "metadata": {},
   "outputs": [
    {
     "name": "stdout",
     "output_type": "stream",
     "text": [
      "True\n",
      "False\n",
      "True\n",
      "True\n",
      "False\n"
     ]
    }
   ],
   "source": [
    "print(XO(\"ooxx\"))\n",
    "print(XO(\"xooxx\"))\n",
    "print(XO(\"ooxXm\"))\n",
    "print(XO(\"zpzpzpp\"))\n",
    "print(XO(\"zzoo\"))"
   ]
  },
  {
   "cell_type": "markdown",
   "metadata": {},
   "source": [
    "7. ATM machines allow 4 or 6 digit PIN codes\n",
    "and PIN codes cannot contain anything but\n",
    "exactly 4 digits or exactly 6 digits.\n",
    "\n",
    "If the function is passed a valid PIN string, return\n",
    "true, else return false.\n",
    "\n",
    "eg:\n",
    "\n",
    "- validate_pin(“1234”) == True\n",
    "- validate_pin(“12345′′) == False\n",
    "- validate_pin(“a234”) == False"
   ]
  },
  {
   "cell_type": "code",
   "execution_count": 123,
   "metadata": {},
   "outputs": [],
   "source": [
    "def validate_pin(pin):\n",
    "    if len(pin) == 4 or len(pin) == 6: # ensure length is 4 or 6\n",
    "        return pin.isnumeric()         # ensure all characters are numeric\n",
    "    else:\n",
    "        return False"
   ]
  },
  {
   "cell_type": "code",
   "execution_count": 125,
   "metadata": {},
   "outputs": [],
   "source": [
    "# Bilel\n",
    "def validate_pin(pin):\n",
    "    try:\n",
    "       pin = int(pin)\n",
    "       pin_str = str(pin)\n",
    "       if len(pin_str) == 4 or len(pin_str) == 6:\n",
    "           return \"True\"\n",
    "       else:\n",
    "           return \"False\"\n",
    "    except ValueError:\n",
    "        return \"False\""
   ]
  },
  {
   "cell_type": "code",
   "execution_count": 126,
   "metadata": {},
   "outputs": [
    {
     "name": "stdout",
     "output_type": "stream",
     "text": [
      "True\n",
      "False\n",
      "False\n",
      "False\n"
     ]
    }
   ],
   "source": [
    "print(validate_pin(\"1234\"))\n",
    "print(validate_pin(\"12345\"))\n",
    "print(validate_pin(\"a234\"))\n",
    "print(validate_pin(\"-1234\"))"
   ]
  },
  {
   "cell_type": "markdown",
   "metadata": {},
   "source": [
    "8. Simple, given a string of words, return the length of the shortest word(s).\n",
    "\n",
    "String will never be empty and you do not need to account for different data types."
   ]
  },
  {
   "cell_type": "code",
   "execution_count": 57,
   "metadata": {},
   "outputs": [],
   "source": [
    "def shortest_word(sentence):\n",
    "    return min([len(word) for word in sentence.split()])"
   ]
  },
  {
   "cell_type": "code",
   "execution_count": 58,
   "metadata": {},
   "outputs": [
    {
     "data": {
      "text/plain": [
       "1"
      ]
     },
     "execution_count": 58,
     "metadata": {},
     "output_type": "execute_result"
    }
   ],
   "source": [
    "shortest_word('this is a sentence with words of differente length.')"
   ]
  },
  {
   "cell_type": "markdown",
   "metadata": {},
   "source": [
    "9. Find the missing letter\n",
    "\n",
    "Write a method that takes an array of consecutive (increasing) letters as input and\n",
    "that returns the missing letter in the array.\n",
    "\n",
    "You will always get an valid array. And it will be always exactly one letter be missing.\n",
    "The length of the array will always be at least 2.\n",
    "The array will always contain letters in only one case.\n",
    "\n",
    "Example:\n",
    "- [‘a',‘b',‘c',‘d',‘f'] -> ‘e'\n",
    "- [‘O',‘Q',‘R',‘S'] -> ‘P'\n",
    "\n",
    "(Use the English alphabet with 26 letters )"
   ]
  },
  {
   "cell_type": "code",
   "execution_count": 127,
   "metadata": {},
   "outputs": [],
   "source": [
    "# solution with just checking inicies\n",
    "def find_missing_letter(letters):\n",
    "    alphabet = 'abcdefghijklmnopqrstuvwxyzABCDEFGHIJKLMNOPQRSTUVWXYZ'\n",
    "\n",
    "    last_index = alphabet.index(letters[0])\n",
    "    for letter in letters:\n",
    "\n",
    "        if alphabet.index(letter) - last_index > 1:\n",
    "            return alphabet[last_index + 1]\n",
    "        \n",
    "        last_index = alphabet.index(letter)\n"
   ]
  },
  {
   "cell_type": "code",
   "execution_count": 60,
   "metadata": {},
   "outputs": [],
   "source": [
    "# solution with set comparison\n",
    "def find_missing_letter(letters):\n",
    "    alphabet = 'abcdefghijklmnopqrstuvwxyzABCDEFGHIJKLMNOPQRSTUVWXYZ'\n",
    "\n",
    "    missing_letter = set(alphabet[alphabet.index(letters[0]):alphabet.index(letters[-1]) + 1]) - set(letters)\n",
    "\n",
    "    return missing_letter.pop()"
   ]
  },
  {
   "cell_type": "code",
   "execution_count": 70,
   "metadata": {},
   "outputs": [
    {
     "data": {
      "text/plain": [
       "{'d'}"
      ]
     },
     "execution_count": 70,
     "metadata": {},
     "output_type": "execute_result"
    }
   ],
   "source": [
    "x = ['b', 'c', 'e']\n",
    "\n",
    "start = alphabet.index(x[0])\n",
    "end = alphabet.index(x[-1]) + 1\n",
    "\n",
    "set(alphabet[start:end]) - set(x)\n"
   ]
  },
  {
   "cell_type": "code",
   "execution_count": 129,
   "metadata": {},
   "outputs": [],
   "source": [
    "# Barry\n",
    "def missing_letter(lst):\n",
    "    #outputs abcdefghijklmnopqrstuvwxyzABCDEFGHIJKLMNOPQRSTUVWXYZ\n",
    "    letters = string.ascii_letters\n",
    "    #I want to find create a substring from the variable letters with the 'correct' letters in order for a string of the same length as the input. starting index tells me where to start\n",
    "    starting_index = letters.index(lst[0])\n",
    "    print(starting_index)\n",
    "    matching_letters = letters[starting_index: starting_index+ len(lst)]\n",
    "    print(matching_letters)\n",
    "    #this compares the 'in order string' to the input string and when it sees the difference it returns it\n",
    "    for val in matching_letters:\n",
    "        if val not in lst:\n",
    "            return val\n",
    "    print(matching_letters)"
   ]
  },
  {
   "cell_type": "code",
   "execution_count": 130,
   "metadata": {},
   "outputs": [
    {
     "name": "stdout",
     "output_type": "stream",
     "text": [
      "d\n",
      "P\n"
     ]
    }
   ],
   "source": [
    "print(find_missing_letter(['b', 'c', 'e']))\n",
    "print(find_missing_letter(['O','Q','R','S']))"
   ]
  },
  {
   "cell_type": "markdown",
   "metadata": {},
   "source": [
    "10. Make a program that filters a list of strings and returns a list with only your\n",
    "friends name in it. If a name has exactly 4 letters in it, you can be sure that it has to\n",
    "be a friend of yours! Otherwise, you can be sure he /she is not.\n",
    "\n",
    "Ex: Input = [“Ryan”, “Kieran”, “Jason”, “Yous”], Output = [“Ryan”, “Yous”]\n",
    "\n",
    "Note: keep the original order of the names in the output."
   ]
  },
  {
   "cell_type": "code",
   "execution_count": 63,
   "metadata": {},
   "outputs": [],
   "source": [
    "def detect_friend(list_of_names):\n",
    "    friends = []\n",
    "    for name in list_of_names:\n",
    "        if len(name) == 4:\n",
    "            friends.append(name)\n",
    "    \n",
    "    return friends"
   ]
  },
  {
   "cell_type": "code",
   "execution_count": 64,
   "metadata": {},
   "outputs": [],
   "source": [
    "def detect_friend(list_of_names):\n",
    "    return [name for name in list_of_names if len(name) == 4]"
   ]
  },
  {
   "cell_type": "code",
   "execution_count": 65,
   "metadata": {},
   "outputs": [
    {
     "data": {
      "text/plain": [
       "['Ryan', 'Yous']"
      ]
     },
     "execution_count": 65,
     "metadata": {},
     "output_type": "execute_result"
    }
   ],
   "source": [
    "input = [\"Ryan\", \"Kieran\", \"Jason\", \"Yous\"]\n",
    "detect_friend(input)"
   ]
  },
  {
   "cell_type": "markdown",
   "metadata": {},
   "source": [
    "# SET 2"
   ]
  },
  {
   "cell_type": "markdown",
   "metadata": {},
   "source": [
    "1. Count the number of occurrences of each character and return it as\n",
    "a list of tuples in order of appearance.\n",
    "\n",
    "Example:\n",
    "ordered_count(“abracadabra”) == [(‘a’, 5), (‘b', 2), (‘r', 2), (‘c', 1), (‘d', 1)]"
   ]
  },
  {
   "cell_type": "code",
   "execution_count": 66,
   "metadata": {},
   "outputs": [],
   "source": [
    "# long version\n",
    "def ordered_count(word):\n",
    "    counts = []\n",
    "    for letter in set(word):\n",
    "        counts.append((letter, word.count(letter)))\n",
    "    \n",
    "    return counts"
   ]
  },
  {
   "cell_type": "code",
   "execution_count": 67,
   "metadata": {},
   "outputs": [],
   "source": [
    "# short version\n",
    "def ordered_count(word):\n",
    "    return [(letter, word.count(letter)) for letter in set(word)]"
   ]
  },
  {
   "cell_type": "code",
   "execution_count": 68,
   "metadata": {},
   "outputs": [
    {
     "data": {
      "text/plain": [
       "[('d', 1), ('a', 5), ('c', 1), ('b', 2), ('r', 2)]"
      ]
     },
     "execution_count": 68,
     "metadata": {},
     "output_type": "execute_result"
    }
   ],
   "source": [
    "ordered_count(\"abracadabra\")"
   ]
  },
  {
   "cell_type": "markdown",
   "metadata": {},
   "source": [
    "2. A Narcissistic Number is a number which is the sum of its own digits, each raised\n",
    "to the power of the number of digits in a given base. In this problem, we will restrict\n",
    "ourselves to decimal (base 10).\n",
    "\n",
    "For example, take 153 (3 digits):\n",
    "1^3 + 5^3 + 3^3 = 1 + 125 + 27 = 153\n",
    "\n",
    "and 1634 (4 digits):\n",
    "1^4 + 6^4 + 3^4 + 4^4 = 1 + 1296 + 81 + 256 = 1634\n",
    "\n",
    "The Challenge:\n",
    "Your code must return true or false depending upon whether the given number is a\n",
    "narcissistic number in base 10. Error checking for text strings or other invalid inputs is\n",
    "not required, only valid integers will be passed into the function."
   ]
  },
  {
   "cell_type": "code",
   "execution_count": 69,
   "metadata": {},
   "outputs": [],
   "source": [
    "# solution with conversion to chars\n",
    "def narcissistic_number(number):\n",
    "    sum_of_powers = 0\n",
    "\n",
    "    for digit in str(number):\n",
    "        power_of_digit = int(digit)\n",
    "        for power in range(len(str(number)) - 1):\n",
    "            power_of_digit *= int(digit)\n",
    "        sum_of_powers += power_of_digit\n",
    "    \n",
    "    return sum_of_powers == number"
   ]
  },
  {
   "cell_type": "code",
   "execution_count": 70,
   "metadata": {},
   "outputs": [],
   "source": [
    "# solution with mod and while loop\n",
    "def narcissistic_number(number):\n",
    "\n",
    "    digit_len = len(str(number))\n",
    "    original_number = number\n",
    "    sum_of_powers = 0\n",
    "    \n",
    "    while number > 0:\n",
    "        digit = number % 10\n",
    "        power_of_digit = digit\n",
    "        \n",
    "        for power in range(digit_len - 1):\n",
    "            power_of_digit *= digit\n",
    "\n",
    "        sum_of_powers += power_of_digit\n",
    "\n",
    "        number = int((number - digit) / 10)\n",
    "    \n",
    "    return sum_of_powers == original_number"
   ]
  },
  {
   "cell_type": "code",
   "execution_count": 71,
   "metadata": {},
   "outputs": [],
   "source": [
    "# shortest solution\n",
    "def narcissistic_number(number):\n",
    "    sum_of_powers = 0\n",
    "\n",
    "    for digit in str(number):\n",
    "        sum_of_powers += pow(int(digit), len(str(number)))\n",
    "    \n",
    "    return sum_of_powers == number"
   ]
  },
  {
   "cell_type": "code",
   "execution_count": 72,
   "metadata": {},
   "outputs": [
    {
     "name": "stdout",
     "output_type": "stream",
     "text": [
      "True\n",
      "True\n",
      "False\n"
     ]
    }
   ],
   "source": [
    "print(narcissistic_number(1634))\n",
    "print(narcissistic_number(153))\n",
    "print(narcissistic_number(4322))"
   ]
  },
  {
   "cell_type": "markdown",
   "metadata": {},
   "source": [
    "3. A pangram is a sentence that contains every\n",
    "single letter of the alphabet at least once. For\n",
    "example, the sentence “The quick brown fox\n",
    "jumps over the lazy dog” is a pangram, because it\n",
    "uses the letters A-Z at least once (case is\n",
    "irrelevant).\n",
    "\n",
    "Given a string, detect whether or not it is a\n",
    "pangram. Return True if it is, False if not. Ignore\n",
    "numbers and punctuation.\n"
   ]
  },
  {
   "cell_type": "code",
   "execution_count": 73,
   "metadata": {},
   "outputs": [],
   "source": [
    "def panagram(sentence):\n",
    "    alphabet = 'abcdefghijklmnopqrstuvwxyz'\n",
    "\n",
    "    for letter in alphabet:\n",
    "        if letter in sentence.lower():\n",
    "            continue\n",
    "        else:\n",
    "            return False\n",
    "\n",
    "    return True"
   ]
  },
  {
   "cell_type": "code",
   "execution_count": 74,
   "metadata": {},
   "outputs": [],
   "source": [
    "# super short version\n",
    "import string \n",
    "\n",
    "def panagram(sentence):\n",
    "    return -1 in [sentence.lower().find(letter) for letter in string.ascii_lowercase]"
   ]
  },
  {
   "cell_type": "code",
   "execution_count": 75,
   "metadata": {},
   "outputs": [
    {
     "name": "stdout",
     "output_type": "stream",
     "text": [
      "False\n",
      "False\n",
      "True\n",
      "False\n"
     ]
    }
   ],
   "source": [
    "example_1 = \"The quick brown fox jumps over the lazy dog\"\n",
    "example_2 = \"The QUick brown fox jumps over the lazy dog.\"\n",
    "example_3 = \"The slick brown fox jumps over the lazy dog\"\n",
    "example_4 = \"The quick 1 brown fox jumps over the lazy dog\"\n",
    "print(panagram(example_1))\n",
    "print(panagram(example_2))\n",
    "print(panagram(example_3))\n",
    "print(panagram(example_4))"
   ]
  },
  {
   "cell_type": "markdown",
   "metadata": {},
   "source": [
    "4. In the city of Cartesia, all roads are laid out in a perfect grid. You arrived ten\n",
    "minutes earlier to an appointment, so you decided to take the opportunity to go for a\n",
    "short walk. The city provides its citizens with a Walk Generating App on their phones\n",
    "— every time you press the button it sends you an array of one-letter strings\n",
    "representing directions to walk (e.g. [‘n’, ‘s’, ‘w’, ‘e’]). You always walk only a single\n",
    "block in a direction and you know it takes you one minute to traverse one city block,\n",
    "so create a function that will return True if the walk the app tells you that you will\n",
    "take exactly ten minutes (you don't want to be early or late!) and will, of course, return\n",
    "to your starting point. Return False otherwise.\n",
    "\n",
    "Note: you will always receive a valid array containing a random assortment of\n",
    "direction letters (‘n’, ‘s’, ‘e’, or ‘w’ only). It will never give you an empty array (that’s not\n",
    "a walk, that’s standing still!)."
   ]
  },
  {
   "cell_type": "code",
   "execution_count": 80,
   "metadata": {},
   "outputs": [],
   "source": [
    "def cartesia(path):\n",
    "    if len(path) != 10:\n",
    "        return False\n",
    "    elif path.count('n') != path.count('s'):\n",
    "        return False\n",
    "    elif path.count('e') != path.count('w'):\n",
    "        return False\n",
    "    else:\n",
    "        return True"
   ]
  },
  {
   "cell_type": "code",
   "execution_count": 83,
   "metadata": {},
   "outputs": [],
   "source": [
    "def cartesia(path):\n",
    "    if len(path) == 10:\n",
    "        if path.count('n') == path.count('s') and path.count('e') == path.count('w'):\n",
    "            return True\n",
    "        else:\n",
    "            return False\n",
    "    else:\n",
    "        return False\n"
   ]
  },
  {
   "cell_type": "code",
   "execution_count": 84,
   "metadata": {},
   "outputs": [],
   "source": [
    "test_1 = ['n', 'e', 'e', 'n', 'e', 'w', 'n', 'n', 's', 'e']\n",
    "test_2 = ['e', 'n', 'w', 'e', 'e', 's', 'n', 's', 'e', 'n', 'n', 's', 'n', 'e', 'w', 'n', 'n', 'n', 's']\n",
    "test_3 = ['s', 'e', 's', 'n', 's', 's', 's', 'w', 'e', 'e', 'e', 'w', 's']\n",
    "test_4 = ['e', 'w', 'e', 'n', 's']\n",
    "test_5 = ['s', 'e', 'w', 'n', 'n', 's', 'e', 'w', 'n', 's']"
   ]
  },
  {
   "cell_type": "code",
   "execution_count": 85,
   "metadata": {},
   "outputs": [
    {
     "name": "stdout",
     "output_type": "stream",
     "text": [
      "False\n",
      "False\n",
      "False\n",
      "False\n",
      "True\n"
     ]
    }
   ],
   "source": [
    "print(cartesia(test_1))\n",
    "print(cartesia(test_2))\n",
    "print(cartesia(test_3))\n",
    "print(cartesia(test_4))\n",
    "print(cartesia(test_5))"
   ]
  },
  {
   "cell_type": "markdown",
   "metadata": {},
   "source": [
    "# SET 3"
   ]
  },
  {
   "cell_type": "markdown",
   "metadata": {},
   "source": [
    "1. You are given an array strarr of strings and an integer k. Your task is to return the\n",
    "first longest string consisting of k consecutive strings taken in the array.\n",
    "\n",
    "Example:\n",
    "longest_consec([“zone”, “abigail”, “theta”, “form”, “libe”, “zas”, “theta”, “abigail”],\n",
    "2) “abigailtheta”\n",
    "\n",
    "n being the length of the string array, if n = 0 or k > n or k <= 0 return “”.\n",
    "\n",
    "Note\n",
    "consecutive strings : follow one after another without an interruption"
   ]
  },
  {
   "cell_type": "code",
   "execution_count": null,
   "metadata": {},
   "outputs": [],
   "source": []
  },
  {
   "cell_type": "markdown",
   "metadata": {},
   "source": [
    "2. Alice and Bob were on a holiday. Both of them took\n",
    "many pictures of the places they’ve been, and now\n",
    "they want to show Charlie their entire collection.\n",
    "However, Charlie doesn’t like this sessions, since the\n",
    "motive usually repeats. He isn’t fond of seeing\n",
    "the Eiffel tower 40 times. He tells them that he will\n",
    "only sit during the session if they show the same\n",
    "motive at most N times. Luckily, Alice and Bob are\n",
    "able to encode the motive as a number. Can you help\n",
    "them to remove numbers such that their list contains\n",
    "each number only up to N times, without changing\n",
    "the order?\n",
    "\n",
    "Task\n",
    "Given a list lst and a number N, create a new list that\n",
    "contains each number of lst at most N times without\n",
    "reordering. For example if N = 2, and the input is\n",
    "[1,2,3,1,2,1,2,3], you take [1,2,3,1,2], drop the next [1,2]\n",
    "since this would lead to 1 and 2 being in the result 3\n",
    "times, and then take 3, which leads to [1,2,3,1,2,3].\n",
    "\n",
    "Example\n",
    "delete_nth ([1,1,1,1],2) # return [1,1]\n",
    "delete_nth ([20,37,20,21],1) # return [20,37,21]\n"
   ]
  },
  {
   "cell_type": "code",
   "execution_count": 172,
   "metadata": {},
   "outputs": [],
   "source": [
    "def delete_nth(lst, n):\n",
    "    filtered = []\n",
    "\n",
    "    for elem in lst:\n",
    "        if filtered.count(elem) < n:\n",
    "            filtered.append(elem)\n",
    "    \n",
    "    return filtered"
   ]
  },
  {
   "cell_type": "code",
   "execution_count": 173,
   "metadata": {},
   "outputs": [
    {
     "name": "stdout",
     "output_type": "stream",
     "text": [
      "[1, 1]\n",
      "[20, 37, 21]\n",
      "[1, 2, 3, 1, 2, 3]\n",
      "[1, 2, 11, 3, 7, 7, 1, 2, 3, 9, 11]\n"
     ]
    }
   ],
   "source": [
    "print(delete_nth([1,1,1,1],2))\n",
    "print(delete_nth([20,37,20,21],1))\n",
    "print(delete_nth([1,2,3,1,2,1,2,3],2))\n",
    "print(delete_nth([1, 2, 11, 3, 7, 7, 1, 2, 1, 2, 3, 9, 11],2))"
   ]
  },
  {
   "cell_type": "markdown",
   "metadata": {},
   "source": [
    "3. In this problem, given a string, replace every letter with its position in the alphabet.\n",
    "If anything in the text isn’t a letter, ignore it and don’t return it.\n",
    "\n",
    "“a” = 1, “b” = 2, etc.\n",
    "\n",
    "Example\n",
    "alphabet_position(“The sunset sets at twelve o’ clock.”)\n",
    "Should return “20 8 5 19 21 14 19 5 20 19 5 20 19 1 20 20 23 5 12 22 5 15 3 12 15 3 11” (as a\n",
    "string)"
   ]
  },
  {
   "cell_type": "code",
   "execution_count": 178,
   "metadata": {},
   "outputs": [],
   "source": [
    "import string\n",
    "\n",
    "def alphabet_position(input):\n",
    "    positions = []\n",
    "\n",
    "    for letter in input.lower():\n",
    "        if letter.isalpha():\n",
    "            positions.append(string.ascii_lowercase.index(letter) + 1)\n",
    "    \n",
    "    positions = [str(pos) for pos in positions]\n",
    "    return ' '.join(positions)\n"
   ]
  },
  {
   "cell_type": "code",
   "execution_count": 186,
   "metadata": {},
   "outputs": [],
   "source": [
    "# shorter version\n",
    "def alphabet_position(input):\n",
    "    positions = [string.ascii_lowercase.index(letter) + 1 for letter in input.lower() if letter.isalpha()]\n",
    "    \n",
    "    return ' '.join([str(pos) for pos in positions])"
   ]
  },
  {
   "cell_type": "code",
   "execution_count": 187,
   "metadata": {},
   "outputs": [
    {
     "data": {
      "text/plain": [
       "'20 8 5 19 21 14 19 5 20 19 5 20 19 1 20 20 23 5 12 22 5 15 3 12 15 3 11'"
      ]
     },
     "execution_count": 187,
     "metadata": {},
     "output_type": "execute_result"
    }
   ],
   "source": [
    "alphabet_position(\"The sunset sets at twelve o’ clock.\")"
   ]
  },
  {
   "cell_type": "markdown",
   "metadata": {},
   "source": [
    "4. Bob is preparing to pass IQ test. The most frequent task in this test is to find out\n",
    "which one of the given numbers differs from the others. Bob observed that one\n",
    "number usually differs from the others in evenness. Help Bob — to check his\n",
    "answers, he needs a program that among the given numbers finds one that is\n",
    "different in evenness, and return a position of this number.!\n",
    "\n",
    "Keep in mind that your task is to help Bob solve a real IQ test, which means indexes\n",
    "of the elements start from 1 (not 0)\n",
    "\n",
    "Also, you can not use for loop to solve this,\n",
    "\n",
    "Examples :\n",
    "iq_test(“2 4 7 8 10”) => 3 // Third number is odd, while the rest of the numbers are even\n",
    "\n",
    "iq_test(“1 2 1 1”) => 2 // Second number is even, while the rest of the numbers are odd"
   ]
  },
  {
   "cell_type": "code",
   "execution_count": 216,
   "metadata": {},
   "outputs": [],
   "source": [
    "def iq_test(numbers):\n",
    "\n",
    "    even = 0\n",
    "    odd = 0\n",
    "    last_even_index = -1\n",
    "    last_odd_index = -1\n",
    "    counter = 0\n",
    "\n",
    "    numbers = numbers.split() # convert the input to a list\n",
    "\n",
    "    while last_even_index < 1 or last_odd_index < 1:\n",
    "\n",
    "        if int(numbers[counter]) % 2: # check if odd\n",
    "            odd += 1\n",
    "            last_odd_index = counter\n",
    "\n",
    "        else:\n",
    "            even += 1\n",
    "            last_even_index = counter\n",
    "\n",
    "        counter += 1\n",
    "    \n",
    "    if even > odd:\n",
    "        return last_odd_index + 1 # indexes are starting from 1, that's why + 1\n",
    "    else:\n",
    "        return last_even_index + 1"
   ]
  },
  {
   "cell_type": "code",
   "execution_count": 217,
   "metadata": {},
   "outputs": [],
   "source": [
    "# version with map\n",
    "def iq_test(numbers):\n",
    "    numbers = numbers.split() # convert the input to a list\n",
    "    res = list(map(lambda x: int(x) % 2, numbers))\n",
    "\n",
    "    if res.count(1) == 1:\n",
    "        return res.index(1) + 1 # indexes are starting from 1, that's why + 1\n",
    "    else:\n",
    "        return res.index(0) + 1"
   ]
  },
  {
   "cell_type": "code",
   "execution_count": 218,
   "metadata": {},
   "outputs": [
    {
     "name": "stdout",
     "output_type": "stream",
     "text": [
      "3\n",
      "2\n"
     ]
    }
   ],
   "source": [
    "print(iq_test(\"2 4 7 8 10\"))\n",
    "print(iq_test(\"1 2 1 1\"))"
   ]
  },
  {
   "cell_type": "markdown",
   "metadata": {},
   "source": [
    "5. Complete the function scramble(str1, str2) that returns true if a portion of str1 characters can be rearranged to match str2, otherwise returns false.\n",
    "\n",
    "Notes:\n",
    "Only lower case letters will be used (a-z). No punctuation or digits will be included.\n",
    "Performance needs to be considered\n",
    "Input strings s1 and s2 are null terminated.\n",
    "Examples\n",
    "- scramble(‘rkqodlw’, ‘world’) ==> True\n",
    "- scramble(‘cedewaraaossoqqyt’, ‘codewars’) ==> True\n",
    "- scramble(‘katas’, ‘steak’) ==> False"
   ]
  },
  {
   "cell_type": "code",
   "execution_count": 229,
   "metadata": {},
   "outputs": [],
   "source": [
    "def scramble(str1, str2):\n",
    "    for letter in set(str2):\n",
    "        if str1.count(letter) < str2.count(letter):\n",
    "            return False\n",
    "    \n",
    "    return True"
   ]
  },
  {
   "cell_type": "code",
   "execution_count": 230,
   "metadata": {},
   "outputs": [],
   "source": [
    "# Counter solution\n",
    "from collections import Counter\n",
    "\n",
    "def scramble(s1,s2):\n",
    "   return len(Counter(s2) - Counter(s1)) == 0"
   ]
  },
  {
   "cell_type": "code",
   "execution_count": 231,
   "metadata": {},
   "outputs": [
    {
     "name": "stdout",
     "output_type": "stream",
     "text": [
      "True\n",
      "True\n",
      "False\n",
      "False\n",
      "False\n"
     ]
    }
   ],
   "source": [
    "print(scramble('rkqodlw', 'world'))\n",
    "print(scramble('cedewaraaossoqqyt', 'codewars'))\n",
    "print(scramble('katas', 'steak'))\n",
    "print(scramble('aaab', 'abc'))\n",
    "print(scramble('aabcd', 'aaab'))"
   ]
  },
  {
   "cell_type": "markdown",
   "metadata": {},
   "source": [
    "6. The maximum sum subarray problem consists in finding the maximum sum of a\n",
    "contiguous subsequence in an array or list of integers:\n",
    "\n",
    "maxSequence([-2, 1, -3, 4, -1, 2, 1, -5, 4])\n",
    "It should return 6 that is sum of these 4 numbers [4, -1, 2, 1]\n",
    "Easy case is when the list is made up of only positive numbers and the maximum\n",
    "sum is the sum of the whole array. If the list is made up of only negative numbers,\n",
    "return 0 instead.\n",
    "\n",
    "Empty list is considered to have zero greatest sum. Note that the empty list or array is\n",
    "also a valid sublist/subarray."
   ]
  },
  {
   "cell_type": "code",
   "execution_count": 170,
   "metadata": {},
   "outputs": [],
   "source": [
    "# Kadane's algorithm\n",
    "def maxSequence(seq):\n",
    "    best_sum = 0\n",
    "    current_sum = 0\n",
    "    for x in seq:\n",
    "        current_sum = max(x, current_sum + x)\n",
    "        best_sum = max(best_sum, current_sum)\n",
    "    return best_sum"
   ]
  },
  {
   "cell_type": "code",
   "execution_count": 171,
   "metadata": {},
   "outputs": [
    {
     "name": "stdout",
     "output_type": "stream",
     "text": [
      "6\n",
      "0\n",
      "4\n",
      "0\n"
     ]
    }
   ],
   "source": [
    "print(maxSequence([-2, 1, -3, 4, -1, 2, 1, -5, 4]))\n",
    "print(maxSequence([]))\n",
    "print(maxSequence([-2, -3, -1, -5, 4]))\n",
    "print(maxSequence([-2, -3, -1, -5]))"
   ]
  },
  {
   "cell_type": "markdown",
   "metadata": {},
   "source": [
    "# SET 4"
   ]
  },
  {
   "cell_type": "markdown",
   "metadata": {},
   "source": [
    "1. In a small town in country Dreamland, the\n",
    "initial population is 1000 at the beginning of a year. The\n",
    "population regularly increases by 4 percent per year and\n",
    "recently the town has set up new industries. So,100\n",
    "new inhabitants come for job or studies every year.\n",
    "\n",
    "The townhead wants an estimate that in how many years,\n",
    "the the town will get certain population based\n",
    "on varying ‘percentage of population growth‘ and ‘number of\n",
    "incoming people‘.\n",
    "\n",
    "A sample question from townhead would be:\n",
    "How many years does the town need to see\n",
    "its target population greater or equal to 1200 inhabitants?\n",
    "\n",
    "At the end of the first year there will be:\n",
    "1000 + 1000 * 0.04 + 100 => 1140 inhabitants\n",
    "\n",
    "At the end of the 2nd year there will be:\n",
    "1140 + 1140 * 0.04 + 100 => 1286 inhabitants (population can not\n",
    "be fraction)\n",
    "\n",
    "It will need 2 entire years.\n",
    "\n",
    "More generally given parameters:\n",
    "\n",
    "population(initial\n",
    "population), percent, newcomers, target (population to surpass)\n",
    "the function number_of_years should return n number of entire\n",
    "years needed to get a population greater or equal to target.\n",
    "newcomers is an integer, percent a positive or null\n",
    "number, population and target are positive integers (> 0)\n",
    "\n",
    "Examples:\n",
    "number_of_years(1500, 5, 100, 10000) -> 26\n",
    "number_of_years(1500000, 2.5, 10000, 2000000) -> 10"
   ]
  },
  {
   "cell_type": "code",
   "execution_count": 273,
   "metadata": {},
   "outputs": [],
   "source": [
    "def number_of_years(population, percent, newcomers, target):\n",
    "\n",
    "    years = 0\n",
    "    while population <= target:\n",
    "        population = population + population * (percent/100) + newcomers\n",
    "        years += 1\n",
    "    \n",
    "    return years\n"
   ]
  },
  {
   "cell_type": "code",
   "execution_count": 276,
   "metadata": {},
   "outputs": [
    {
     "name": "stdout",
     "output_type": "stream",
     "text": [
      "2\n",
      "26\n",
      "10\n"
     ]
    }
   ],
   "source": [
    "print(number_of_years(1000, 4, 100, 1200))\n",
    "print(number_of_years(1500, 5, 100, 10000))\n",
    "print(number_of_years(1500000, 2.5, 10000, 2000000))"
   ]
  },
  {
   "cell_type": "markdown",
   "metadata": {},
   "source": [
    "2. Some languages like Chinese, Japanese & Thai do not have spaces between words.\n",
    "However, most natural languages processing tasks like part-of-speech tagging\n",
    "require texts that have segmented words.\n",
    "\n",
    "“MaxMatch” is a simple and reasonably effective algorithm to segment a sentence into its component words.\n",
    "\n",
    "MaxMatch\n",
    "MaxMatch starts at the first character of a sentence and tries to find the longest valid\n",
    "word starting from that character. If no word is found, the first character is deemed\n",
    "the longest “word”, regardless of its validity. In order to find the rest of the words,\n",
    "MaxMatch is then recursively invoked on all of the remaining characters until no\n",
    "characters remain. A list of all of the words that were found is returned.\n",
    "\n",
    "So for the string “happynight“, “happy” is found because “happynight” is not a valid\n",
    "word, nor is “happyni“, nor “happyn“. Then, MaxMatch is called on “night”, and “night”\n",
    "is found. The output is the list [“happy“, “night“] in that order.\n",
    "\n",
    "The Challenge\n",
    "Write max_match, which takes an alphanumeric, spaceless, lowercased String as\n",
    "input and returns a List of Strings of all the words/ alphabets found, in the order they\n",
    "were found. All valid words including alphabets can be obtained with below set of code:\n",
    "import nltk\n",
    "nltk.download(‘words’)\n",
    "english_vocab = set(w.lower() for w in nltk.corpus.words.words())\n",
    "\n",
    "english_vocab will contain all the valid words & alphabets.\n",
    "\n",
    "Example\n",
    "max_match(‘happynightzig‘)\n",
    "Output:\n",
    "[‘happy‘, ‘night‘, ‘zig‘]\n",
    "\n",
    "max_match(‘happynightzi‘)\n",
    "Output:\n",
    "[‘happy‘, ‘night‘, ‘z’, ‘i’]"
   ]
  },
  {
   "cell_type": "code",
   "execution_count": 1,
   "metadata": {},
   "outputs": [
    {
     "name": "stderr",
     "output_type": "stream",
     "text": [
      "[nltk_data] Downloading package words to\n",
      "[nltk_data]     /Users/michalpasternak/nltk_data...\n",
      "[nltk_data]   Package words is already up-to-date!\n"
     ]
    }
   ],
   "source": [
    "import nltk\n",
    "nltk.download('words')\n",
    "english_vocab = set(w.lower() for w in nltk.corpus.words.words())"
   ]
  },
  {
   "cell_type": "code",
   "execution_count": 5,
   "metadata": {},
   "outputs": [],
   "source": [
    "def max_match(input):\n",
    "    words = []\n",
    "\n",
    "    while len(input) > 0:\n",
    "        i = len(input)\n",
    "        while i > 0:\n",
    "            if input[:i] in english_vocab:\n",
    "                words.append(input[:i])\n",
    "                break\n",
    "            i -=1\n",
    "        input = input[i:]\n",
    "    \n",
    "    return words\n",
    "        "
   ]
  },
  {
   "cell_type": "code",
   "execution_count": 6,
   "metadata": {},
   "outputs": [
    {
     "name": "stdout",
     "output_type": "stream",
     "text": [
      "['happy', 'night', 'zig']\n",
      "['happy', 'night', 'z', 'i']\n"
     ]
    }
   ],
   "source": [
    "print(max_match('happynightzig'))\n",
    "print(max_match('happynightzi'))"
   ]
  },
  {
   "cell_type": "markdown",
   "metadata": {},
   "source": [
    "3. An array is circularly sorted if the elements are sorted in ascending order, but displaced, or rotated, by any number of steps.\n",
    "\n",
    "Complete the function/method that determines if the given array of integers is circularly sorted.\n",
    "\n",
    "Examples\n",
    "These arrays are circularly sorted (true):\n",
    "\n",
    "- [2, 3, 4, 5, 0, 1] –> [0, 1] + [2, 3, 4, 5]\n",
    "- [4, 5, 6, 9, 1] –> [1] + [4, 5, 6, 9]\n",
    "- [10, 11, 6, 7, 9] –> [6, 7, 9] + [10, 11]\n",
    "- [1, 2, 3, 4, 5] –> [1, 2, 3, 4, 5]\n",
    "- [5, 7, 43, 987, -9, 0] –> [-9, 0] + [5, 7, 43, 987]\n",
    "\n",
    "While these are not (false):\n",
    "- [4, 1, 2, 5]\n",
    "- [8, 7, 6, 5, 4, 3]\n",
    "- [6, 7, 4, 8]\n",
    "- [7, 6, 5, 4, 3, 2, 1]"
   ]
  },
  {
   "cell_type": "code",
   "execution_count": 57,
   "metadata": {},
   "outputs": [],
   "source": [
    "def circularly_sorted(arr):\n",
    "\n",
    "    for i in range(len(arr)):\n",
    "        arr = arr[1:] + arr[:1] # rotate the array by moving the first element to the back in each iteration\n",
    "        \n",
    "        c_sorted = True # assume they are sorted\n",
    "        for j in range(len(arr) - 1): \n",
    "            if arr[j] > arr[j + 1]: # if the order isn't ascending, it means, they are not sorted\n",
    "                c_sorted = False\n",
    "        \n",
    "        if c_sorted: # if after running the loop above, c_sorted is still true, it means they are sorted\n",
    "            return c_sorted\n",
    "\n",
    "    return c_sorted"
   ]
  },
  {
   "cell_type": "code",
   "execution_count": 58,
   "metadata": {},
   "outputs": [],
   "source": [
    "def circularly_sorted(arr):\n",
    "    c_sorted = 0\n",
    "    for i in range(len(arr)):\n",
    "        if arr[i-1] > arr[i]:\n",
    "            c_sorted += 1\n",
    "    if c_sorted > 1: # this code has one less for loop, thanks to the observation that there can be only one instance, where the previous number is bigger.\n",
    "                     # if there is more, the array isn't circulary sorted\n",
    "        return False\n",
    "    else:\n",
    "        return True"
   ]
  },
  {
   "cell_type": "code",
   "execution_count": 59,
   "metadata": {},
   "outputs": [
    {
     "name": "stdout",
     "output_type": "stream",
     "text": [
      "True\n",
      "True\n",
      "True\n",
      "True\n",
      "True\n",
      "False\n",
      "False\n",
      "False\n",
      "False\n"
     ]
    }
   ],
   "source": [
    "print(circularly_sorted([2, 3, 4, 5, 0, 1]))\n",
    "print(circularly_sorted([4, 5, 6, 9, 1]))\n",
    "print(circularly_sorted([10, 11, 6, 7, 9]))\n",
    "print(circularly_sorted([1, 2, 3, 4, 5]))\n",
    "print(circularly_sorted([5, 7, 43, 987, -9, 0]))\n",
    "\n",
    "print(circularly_sorted([4, 1, 2, 5]))\n",
    "print(circularly_sorted([8, 7, 6, 5, 4, 3]))\n",
    "print(circularly_sorted([6, 7, 4, 8]))\n",
    "print(circularly_sorted([7, 6, 5, 4, 3, 2, 1]))\n"
   ]
  },
  {
   "cell_type": "markdown",
   "metadata": {},
   "source": [
    "4. The new movie “SpaceXtreme” has just been released! There\n",
    "are a lot of people at the cinema box office standing in a huge\n",
    "line. Each of them has a single 100, 50 or 25 dollar bill. An\n",
    "“SpaceXtreme” ticket costs 25 dollars.\n",
    "\n",
    "Steve is currently working as a clerk. He wants to sell a ticket to\n",
    "every single person in this line.\n",
    "Can Steve sell a ticket to every person and give change if he\n",
    "initially has no money and sells the tickets strictly in the order\n",
    "people queue?\n",
    "\n",
    "Return YES, if Steve can sell a ticket to every person and give\n",
    "change with the bills he has at hand at that moment.\n",
    "Otherwise return NO.\n",
    "Examples\n",
    "\n",
    "tickets([25, 25, 50]) # => YES\n",
    "tickets([25, 100]) # => NO. Steve will not have enough money to\n",
    "give change to 100 dollars\n",
    "tickets([25, 25, 50, 50, 100]) # => NO. Steve will not have the right\n",
    "bills to give 75 dollars of change (you can’t make two bills of 25\n",
    "from one of 50."
   ]
  },
  {
   "cell_type": "code",
   "execution_count": 31,
   "metadata": {},
   "outputs": [],
   "source": [
    "def tickets(bills):\n",
    "\n",
    "    steve = []\n",
    "    for bill in bills:\n",
    "\n",
    "        if bill == 25:\n",
    "            steve.append(bill)\n",
    "\n",
    "        elif bill == 50:\n",
    "            if steve.count(25) > 0:\n",
    "                steve.remove(25)\n",
    "            else:\n",
    "                return 'NO'\n",
    "\n",
    "            steve.append(bill)\n",
    "\n",
    "        elif bill == 100:\n",
    "            if steve.count(50) > 0 and steve.count(25) > 0:\n",
    "                steve.remove(50)\n",
    "                steve.remove(25)\n",
    "            elif steve.count(25) > 2:\n",
    "                for i in range(3):\n",
    "                    steve.remove(25)\n",
    "            else:\n",
    "                return 'NO'\n",
    "\n",
    "            steve.append(bill)\n",
    "\n",
    "        else:\n",
    "            pass\n",
    "    \n",
    "    return 'YES'"
   ]
  },
  {
   "cell_type": "code",
   "execution_count": 32,
   "metadata": {},
   "outputs": [
    {
     "name": "stdout",
     "output_type": "stream",
     "text": [
      "YES\n",
      "NO\n",
      "NO\n"
     ]
    }
   ],
   "source": [
    "print(tickets([25, 25, 50]))\n",
    "print(tickets([25, 100]))\n",
    "print(tickets([25, 25, 50, 50, 100]))"
   ]
  },
  {
   "cell_type": "markdown",
   "metadata": {},
   "source": [
    "6. Write a function, persistence, that takes in a positive parameter num and returns\n",
    "its multiplicative persistence, which is the number of times you must multiply the\n",
    "digits in num until you reach a single digit.\n",
    "\n",
    "For example:\n",
    "- persistence(38) => 2 # Because 3*8 = 24, 2*4 = 8 and 8 has only one digit.\n",
    "- persistence(999) => 4 # Because 9*9*9 = 729, 7*2*9 = 126, 1*2*6 = 12, and finally 1*2 = 2.\n",
    "- persistence(4) => 0 # Because 4 is already a one-digit number."
   ]
  },
  {
   "cell_type": "code",
   "execution_count": 45,
   "metadata": {},
   "outputs": [],
   "source": [
    "def persistence(n):\n",
    "    num = 0\n",
    "\n",
    "    while len(str(n)) > 1:\n",
    "        \n",
    "        temp = 1\n",
    "        for i in list(map(int, str(n))):\n",
    "            temp = temp * i\n",
    "        n = temp\n",
    "\n",
    "        num += 1\n",
    "    \n",
    "    return num"
   ]
  },
  {
   "cell_type": "code",
   "execution_count": 46,
   "metadata": {},
   "outputs": [
    {
     "name": "stdout",
     "output_type": "stream",
     "text": [
      "2\n",
      "4\n",
      "0\n"
     ]
    }
   ],
   "source": [
    "print(persistence(38))\n",
    "print(persistence(999))\n",
    "print(persistence(4))"
   ]
  }
 ],
 "metadata": {
  "kernelspec": {
   "display_name": "base",
   "language": "python",
   "name": "python3"
  },
  "language_info": {
   "codemirror_mode": {
    "name": "ipython",
    "version": 3
   },
   "file_extension": ".py",
   "mimetype": "text/x-python",
   "name": "python",
   "nbconvert_exporter": "python",
   "pygments_lexer": "ipython3",
   "version": "3.11.5"
  }
 },
 "nbformat": 4,
 "nbformat_minor": 2
}
