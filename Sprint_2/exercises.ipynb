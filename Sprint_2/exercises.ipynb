{
 "cells": [
  {
   "cell_type": "markdown",
   "metadata": {},
   "source": [
    "### Exercise 1\n",
    "In your file create a variable called my_name with your name as the value. Put your name inside string quotes, e.g., \"my name\". Then add a line of code to print the variable name.\n",
    "Save your file file in your editor and run the cell. You should see your name printed. If not, investigate and fix it."
   ]
  },
  {
   "cell_type": "code",
   "execution_count": 2,
   "metadata": {},
   "outputs": [
    {
     "name": "stdout",
     "output_type": "stream",
     "text": [
      "My name is Michal.\n"
     ]
    }
   ],
   "source": [
    "my_name = \"Michal\"\n",
    "print(f\"My name is {my_name}.\")"
   ]
  },
  {
   "cell_type": "markdown",
   "metadata": {},
   "source": [
    "### Exercise 2\n",
    "Create a variable called age with a number that is your age. Do not use string quotes for numbers.\n",
    "\n",
    "Add a line to print that variable. Save the file and run the cell. You should see your age."
   ]
  },
  {
   "cell_type": "code",
   "execution_count": 17,
   "metadata": {},
   "outputs": [
    {
     "name": "stdout",
     "output_type": "stream",
     "text": [
      "I'm 33 years old.\n"
     ]
    }
   ],
   "source": [
    "age = 33\n",
    "print(f\"I'm {age} years old.\")"
   ]
  },
  {
   "cell_type": "markdown",
   "metadata": {},
   "source": [
    "### Exercise 3\n",
    "Create a variable called julia_age with a value 32. Create another variable called age_diff and set it to an expression that calculates your age minus Julias's age. Print the value of age_diff. Save the file and run the cell. You should see your age and the age difference. If you are younger than Julia, you should see a negative number."
   ]
  },
  {
   "cell_type": "code",
   "execution_count": 5,
   "metadata": {},
   "outputs": [
    {
     "name": "stdout",
     "output_type": "stream",
     "text": [
      "The age difference between me an Julia is -3.\n"
     ]
    }
   ],
   "source": [
    "julia_age = 32\n",
    "age_diff = age - julia_age\n",
    "print(f\"The age difference between me an Julia is {age_diff}.\")"
   ]
  },
  {
   "cell_type": "markdown",
   "metadata": {},
   "source": [
    "### Exercise 4\n",
    "Write a conditional that compares the variable holding your age with the number 21. It should print either \"You are older than 21\" or \"You are not older than 21\", appropriately, depending on your age. Save your file and run the cell. Make sure you see the correct message. Try changing your age in the file to make sure the other message prints when it should.\n",
    "\n"
   ]
  },
  {
   "cell_type": "code",
   "execution_count": 13,
   "metadata": {},
   "outputs": [
    {
     "name": "stdout",
     "output_type": "stream",
     "text": [
      "You are not older than 21\n"
     ]
    }
   ],
   "source": [
    "if age > 21:\n",
    "    print(\"You are older than 21\")\n",
    "else:\n",
    "    print(\"You are not older than 21\")"
   ]
  },
  {
   "cell_type": "markdown",
   "metadata": {},
   "source": [
    "### Exercise 5\n",
    "Write a conditional that compares your age with Julia's age. This conditional will need to test if you are older, younger, or the same age, and print, appropriately, either \"Julia is older than you\", Julia is younger than you\", or \"You have the same age as Julia\"."
   ]
  },
  {
   "cell_type": "code",
   "execution_count": 18,
   "metadata": {},
   "outputs": [
    {
     "name": "stdout",
     "output_type": "stream",
     "text": [
      "Julia is younger than you\n"
     ]
    }
   ],
   "source": [
    "if age > julia_age:\n",
    "    print(\"Julia is younger than you\")\n",
    "elif age < julia_age:\n",
    "    print(\"Julia is older than you\")\n",
    "else:\n",
    "    print(\"You have the same age as Julia\")"
   ]
  },
  {
   "cell_type": "markdown",
   "metadata": {},
   "source": [
    "### Exercise 6\n",
    "Create a list with all the names of your class (including mentors). Sort the list alphabetically. Then print the first element of the list. On the next line, print the last element of the list. On the next line, print all the elements of the list (use a \"for\" loop). Save the file and run the cell. You should see the first element of the sorted list, the last element of the sorted list, and all the elements in order in the list."
   ]
  },
  {
   "cell_type": "code",
   "execution_count": 21,
   "metadata": {},
   "outputs": [
    {
     "name": "stdout",
     "output_type": "stream",
     "text": [
      "first element of the list: Arjun\n",
      "last element of the list: Zsuzsa\n",
      "all the elements in order in the list:\n",
      "Arjun\n",
      "Barry\n",
      "Bilel\n",
      "Daria\n",
      "Jost\n",
      "Killian\n",
      "Lucas\n",
      "Michal\n",
      "Muayad\n",
      "Raul\n",
      "Rupinder\n",
      "Zsuzsa\n"
     ]
    }
   ],
   "source": [
    "names = ['Michal', 'Bilel', 'Daria', 'Rupinder', 'Zsuzsa', 'Barry', 'Arjun', 'Killian', 'Muayad', 'Jost', 'Raul', 'Lucas']\n",
    "names.sort()\n",
    "print(f\"first element of the list: {names[0]}\")\n",
    "print(f\"last element of the list: {names[-1]}\")\n",
    "\n",
    "print(\"all the elements in order in the list:\")\n",
    "for name in names:\n",
    "    print(name)"
   ]
  },
  {
   "cell_type": "markdown",
   "metadata": {},
   "source": [
    "### Exercise 7\n",
    "Create a list with all the ages of the students in your class. Iterate through the list using a for loop, and then print every age. Add a conditional inside the loop to only print even numbers. Save your changes and run the cell. You should see every age printed, then only the even numbers printed. If not, investigate and fix it. Then do the same using a while loop."
   ]
  },
  {
   "cell_type": "code",
   "execution_count": 25,
   "metadata": {},
   "outputs": [
    {
     "name": "stdout",
     "output_type": "stream",
     "text": [
      "26\n",
      "36\n",
      "36\n",
      "34\n"
     ]
    }
   ],
   "source": [
    "ages = [29, 26, 23, 36, 35, 31, 37, 37, 36, 33, 34, 35]\n",
    "\n",
    "for age in ages:\n",
    "    if (age % 2) == 0:\n",
    "        print(age)"
   ]
  },
  {
   "cell_type": "markdown",
   "metadata": {},
   "source": []
  },
  {
   "cell_type": "markdown",
   "metadata": {},
   "source": [
    "### Exercise 8\n",
    "Write a list containing numbers and print the lowest number."
   ]
  },
  {
   "cell_type": "code",
   "execution_count": 35,
   "metadata": {},
   "outputs": [],
   "source": [
    "ages = [29, 26, 23, 36, 35, 31, 37, 37, 36, 33, 34, 35]"
   ]
  },
  {
   "cell_type": "code",
   "execution_count": 29,
   "metadata": {},
   "outputs": [
    {
     "name": "stdout",
     "output_type": "stream",
     "text": [
      "23\n"
     ]
    }
   ],
   "source": [
    "# the quickest way\n",
    "print(min(ages))"
   ]
  },
  {
   "cell_type": "code",
   "execution_count": 34,
   "metadata": {},
   "outputs": [
    {
     "name": "stdout",
     "output_type": "stream",
     "text": [
      "23\n"
     ]
    }
   ],
   "source": [
    "# with using of sort\n",
    "ages.sort()\n",
    "print(ages[0])"
   ]
  },
  {
   "cell_type": "code",
   "execution_count": 36,
   "metadata": {},
   "outputs": [
    {
     "name": "stdout",
     "output_type": "stream",
     "text": [
      "23\n"
     ]
    }
   ],
   "source": [
    "# using a for loop\n",
    "lowest = 1000000\n",
    "for age in ages:\n",
    "    if age < lowest:\n",
    "        lowest = age\n",
    "\n",
    "print(lowest)"
   ]
  },
  {
   "cell_type": "markdown",
   "metadata": {},
   "source": [
    "### Exercise 9\n",
    "Write a list containing numbers and print the highest number."
   ]
  },
  {
   "cell_type": "code",
   "execution_count": 40,
   "metadata": {},
   "outputs": [],
   "source": [
    "ages = [29, 26, 23, 36, 35, 31, 37, 37, 36, 33, 34, 35]"
   ]
  },
  {
   "cell_type": "code",
   "execution_count": 38,
   "metadata": {},
   "outputs": [
    {
     "name": "stdout",
     "output_type": "stream",
     "text": [
      "37\n"
     ]
    }
   ],
   "source": [
    "# the quickest way\n",
    "print(max(ages))"
   ]
  },
  {
   "cell_type": "code",
   "execution_count": 39,
   "metadata": {},
   "outputs": [
    {
     "name": "stdout",
     "output_type": "stream",
     "text": [
      "37\n"
     ]
    }
   ],
   "source": [
    "# with using of sort\n",
    "ages.sort()\n",
    "print(ages[-1])"
   ]
  },
  {
   "cell_type": "code",
   "execution_count": 41,
   "metadata": {},
   "outputs": [
    {
     "name": "stdout",
     "output_type": "stream",
     "text": [
      "37\n"
     ]
    }
   ],
   "source": [
    "# using a for loop\n",
    "highest = -1000000\n",
    "for age in ages:\n",
    "    if age > highest:\n",
    "        highest = age\n",
    "\n",
    "print(highest)"
   ]
  },
  {
   "cell_type": "markdown",
   "metadata": {},
   "source": [
    "### Exercise 10\n",
    "Given below is a list of 10 customers with year of birth, however, the list can be as large as several thousands of customers.\n",
    "\n"
   ]
  },
  {
   "cell_type": "code",
   "execution_count": 43,
   "metadata": {},
   "outputs": [
    {
     "name": "stdout",
     "output_type": "stream",
     "text": [
      "1999\n",
      "1995\n",
      "2005\n",
      "2010\n",
      "2007\n",
      "2006\n",
      "1994\n",
      "1996\n",
      "1979\n",
      "2008\n"
     ]
    }
   ],
   "source": [
    "customer_age = [1999, 1995, 2005, 2010, 2007, 2006, 1994, 1996, 1979, 2008]\n",
    "\n",
    "for age in customer_age:\n",
    "    print(age)"
   ]
  },
  {
   "cell_type": "markdown",
   "metadata": {},
   "source": [
    "### Exercise 11\n",
    "Given below is a list of 10 customers with name and year of birth, however, the list can be as large as several thousands of customers.\n",
    "\n",
    "Use a loop to iterate over the list and print the name and age of each customer.\n",
    "Afterwards, for each customer try to print the sentence \"customer_name is customer_age years old\".\n",
    "customer_name and customer_age should correspond to each customer's name and age."
   ]
  },
  {
   "cell_type": "code",
   "execution_count": 4,
   "metadata": {},
   "outputs": [],
   "source": [
    "customer_list = [\n",
    "                    {\"name\": \"Bob\", \"age\": 1999},\n",
    "                    {\"name\": \"Jack\", \"age\": 1995},\n",
    "                    {\"name\": \"Lisa\", \"age\": 2005},\n",
    "                    {\"name\": \"Maria\", \"age\": 2010},\n",
    "                    {\"name\": \"Ben\", \"age\": 2007},\n",
    "                    {\"name\": \"Emma\", \"age\": 2006},\n",
    "                    {\"name\": \"Oscar\", \"age\": 1994},\n",
    "                    {\"name\": \"Amy\", \"age\": 1996},\n",
    "                    {\"name\": \"Paul\", \"age\": 1979},\n",
    "                    {\"name\": \"Etta\", \"age\": 2008}\n",
    "                ]"
   ]
  },
  {
   "cell_type": "code",
   "execution_count": 6,
   "metadata": {},
   "outputs": [
    {
     "name": "stdout",
     "output_type": "stream",
     "text": [
      "Bob is 24 years old.\n",
      "Jack is 28 years old.\n",
      "Lisa is 18 years old.\n",
      "Maria is 13 years old.\n",
      "Ben is 16 years old.\n",
      "Emma is 17 years old.\n",
      "Oscar is 29 years old.\n",
      "Amy is 27 years old.\n",
      "Paul is 44 years old.\n",
      "Etta is 15 years old.\n"
     ]
    }
   ],
   "source": [
    "# solution with different quotation marks, to not break the f-string.\n",
    "for customer in customer_list:\n",
    "    print(f\"{customer['name']} is {2023 - customer['age']} years old.\")"
   ]
  },
  {
   "cell_type": "code",
   "execution_count": 8,
   "metadata": {},
   "outputs": [
    {
     "name": "stdout",
     "output_type": "stream",
     "text": [
      "Bob is 24 years old.\n",
      "Jack is 28 years old.\n",
      "Lisa is 18 years old.\n",
      "Maria is 13 years old.\n",
      "Ben is 16 years old.\n",
      "Emma is 17 years old.\n",
      "Oscar is 29 years old.\n",
      "Amy is 27 years old.\n",
      "Paul is 44 years old.\n",
      "Etta is 15 years old.\n"
     ]
    }
   ],
   "source": [
    "# solution with additional variables\n",
    "for customer in customer_list:\n",
    "    customer_name = customer[\"name\"]\n",
    "    customer_age = 2023 - customer[\"age\"]\n",
    "    print(f\"{customer_name} is {customer_age} years old.\")"
   ]
  },
  {
   "cell_type": "markdown",
   "metadata": {},
   "source": [
    "### Exercise 12\n",
    "Given a list of ages, remove the youngest and the oldest person.\n",
    "\n",
    "For this exercise try not to use the max() and min() methods."
   ]
  },
  {
   "cell_type": "code",
   "execution_count": 53,
   "metadata": {},
   "outputs": [],
   "source": [
    "ages = [20, 24, 14, 9, 12, 13, 25, 23, 40, 11]"
   ]
  },
  {
   "cell_type": "code",
   "execution_count": 54,
   "metadata": {},
   "outputs": [
    {
     "name": "stdout",
     "output_type": "stream",
     "text": [
      "[11, 12, 13, 14, 20, 23, 24, 25]\n"
     ]
    }
   ],
   "source": [
    "ages.sort()\n",
    "ages = ages[1:-1]\n",
    "print(ages)"
   ]
  },
  {
   "cell_type": "markdown",
   "metadata": {},
   "source": [
    "### Exercise 13\n",
    "You have two lists with ages of customers from different cities.\n",
    "\n",
    "The task is to create an other list with the common ages."
   ]
  },
  {
   "cell_type": "code",
   "execution_count": 55,
   "metadata": {},
   "outputs": [],
   "source": [
    "berlin = [15, 13, 16, 18, 19, 10, 12 ]\n",
    "munich = [7, 13, 15, 20, 19, 18, 10, 16]"
   ]
  },
  {
   "cell_type": "code",
   "execution_count": 58,
   "metadata": {},
   "outputs": [
    {
     "name": "stdout",
     "output_type": "stream",
     "text": [
      "[15, 13, 16, 18, 19, 10]\n"
     ]
    }
   ],
   "source": [
    "# pythonic solution\n",
    "common_ages = []\n",
    "\n",
    "for age in berlin:\n",
    "    if age in munich:\n",
    "        common_ages.append(age)\n",
    "\n",
    "print(common_ages)"
   ]
  },
  {
   "cell_type": "code",
   "execution_count": 65,
   "metadata": {},
   "outputs": [
    {
     "name": "stdout",
     "output_type": "stream",
     "text": [
      "[15, 13, 16, 18, 19, 10]\n"
     ]
    }
   ],
   "source": [
    "# pythonic short\n",
    "common_ages = [age for age in berlin if age in munich]\n",
    "print(common_ages)"
   ]
  },
  {
   "cell_type": "code",
   "execution_count": 69,
   "metadata": {},
   "outputs": [
    {
     "name": "stdout",
     "output_type": "stream",
     "text": [
      "{10, 13, 15, 16, 18, 19}\n"
     ]
    }
   ],
   "source": [
    "# using sets\n",
    "berlin_set = set(berlin)\n",
    "munich_set = set(munich)\n",
    "print(berlin_set & munich_set) # could also be written as berlin_set.intersection(munich_set)"
   ]
  },
  {
   "cell_type": "code",
   "execution_count": 63,
   "metadata": {},
   "outputs": [
    {
     "name": "stdout",
     "output_type": "stream",
     "text": [
      "[15, 13, 16, 18, 19, 10]\n"
     ]
    }
   ],
   "source": [
    "# using nested for loops\n",
    "common_ages = []\n",
    "\n",
    "for b_age in berlin:\n",
    "    for m_age in munich:\n",
    "        if b_age == m_age:\n",
    "            common_ages.append(b_age)\n",
    "    \n",
    "\n",
    "print(common_ages)"
   ]
  },
  {
   "cell_type": "markdown",
   "metadata": {},
   "source": [
    "### Exercise 14\n",
    "You have a list with ages.\n",
    "\n",
    "Remove the duplicates."
   ]
  },
  {
   "cell_type": "code",
   "execution_count": 70,
   "metadata": {},
   "outputs": [],
   "source": [
    "ages = [15,13,16,18,19,15,10]"
   ]
  },
  {
   "cell_type": "code",
   "execution_count": 71,
   "metadata": {},
   "outputs": [
    {
     "name": "stdout",
     "output_type": "stream",
     "text": [
      "[15, 13, 16, 18, 19, 10]\n"
     ]
    }
   ],
   "source": [
    "# using for loop\n",
    "unique = []\n",
    "for age in ages:\n",
    "    if age not in unique:\n",
    "        unique.append(age)\n",
    "\n",
    "print(unique)\n"
   ]
  },
  {
   "cell_type": "code",
   "execution_count": 98,
   "metadata": {},
   "outputs": [
    {
     "name": "stdout",
     "output_type": "stream",
     "text": [
      "[16, 18, 19, 10, 13, 15]\n"
     ]
    }
   ],
   "source": [
    "# using set\n",
    "unique = set(ages)\n",
    "unique = list(unique)\n",
    "print(unique)"
   ]
  },
  {
   "cell_type": "markdown",
   "metadata": {},
   "source": [
    "### Exercise 15\n",
    "Write a function that works like below:\n",
    "\n",
    "Function name: welcome\n",
    "\n",
    "welcome('Evelyn') would print- 'Welcome Evelyn, have a nice day!'\n",
    "\n",
    "welcome('Jost'), it would print - 'Welcome Jost, have a nice day!'"
   ]
  },
  {
   "cell_type": "code",
   "execution_count": 73,
   "metadata": {},
   "outputs": [],
   "source": [
    "def welcome(name):\n",
    "    print(f'Welcome {name}, have a nice day!')\n"
   ]
  },
  {
   "cell_type": "code",
   "execution_count": 75,
   "metadata": {},
   "outputs": [
    {
     "name": "stdout",
     "output_type": "stream",
     "text": [
      "Welcome Evelyn, have a nice day!\n",
      "Welcome Jost, have a nice day!\n"
     ]
    }
   ],
   "source": [
    "welcome('Evelyn')\n",
    "welcome('Jost')"
   ]
  },
  {
   "cell_type": "markdown",
   "metadata": {},
   "source": [
    "### Exercise 16\n",
    "Write a function that takes a string as input and calculates the length.\n",
    "\n",
    "Function name: get_length\n",
    "\n",
    "get_length('Hello') would print / return 5.\n",
    "\n",
    "get_length('Hi') would print / return 2."
   ]
  },
  {
   "cell_type": "code",
   "execution_count": 83,
   "metadata": {},
   "outputs": [],
   "source": [
    "def get_length(string):\n",
    "    print(len(string))"
   ]
  },
  {
   "cell_type": "code",
   "execution_count": 85,
   "metadata": {},
   "outputs": [
    {
     "name": "stdout",
     "output_type": "stream",
     "text": [
      "5\n",
      "2\n"
     ]
    }
   ],
   "source": [
    "get_length('Hello')\n",
    "get_length('Hi')"
   ]
  },
  {
   "cell_type": "markdown",
   "metadata": {},
   "source": [
    "### Exercise 17\n",
    "Write a function which checks whether a number is even.\n",
    "\n",
    "Hint: Think about the modulus operator\n",
    "\n",
    "Function name: check_even\n",
    "\n",
    "check_even(6) would print / return 'Yes'\n",
    "\n",
    "check_even(5) would print / return 'No'\n",
    "\n"
   ]
  },
  {
   "cell_type": "code",
   "execution_count": 86,
   "metadata": {},
   "outputs": [],
   "source": [
    "def check_even(num):\n",
    "    if (num % 2) == 0:\n",
    "        print('Yes')\n",
    "    else:\n",
    "        print('No')"
   ]
  },
  {
   "cell_type": "code",
   "execution_count": 88,
   "metadata": {},
   "outputs": [
    {
     "name": "stdout",
     "output_type": "stream",
     "text": [
      "Yes\n",
      "No\n"
     ]
    }
   ],
   "source": [
    "check_even(6)\n",
    "check_even(5)"
   ]
  },
  {
   "cell_type": "markdown",
   "metadata": {},
   "source": [
    "### Exercise 18\n",
    "Rewrite exercises 11, 12, 13, 14, 15 in a function."
   ]
  },
  {
   "cell_type": "markdown",
   "metadata": {},
   "source": [
    "# There ia a typo in Exercise 18. Exercise 15 is already a function."
   ]
  },
  {
   "cell_type": "code",
   "execution_count": 24,
   "metadata": {},
   "outputs": [],
   "source": [
    "# Exercise 11\n",
    "customer_list = [\n",
    "                    {\"name\": \"Bob\", \"age\": 1999},\n",
    "                    {\"name\": \"Jack\", \"age\": 1995},\n",
    "                    {\"name\": \"Lisa\", \"age\": 2005},\n",
    "                    {\"name\": \"Maria\", \"age\": 2010},\n",
    "                    {\"name\": \"Ben\", \"age\": 2007},\n",
    "                    {\"name\": \"Emma\", \"age\": 2006},\n",
    "                    {\"name\": \"Oscar\", \"age\": 1994},\n",
    "                    {\"name\": \"Amy\", \"age\": 1996},\n",
    "                    {\"name\": \"Paul\", \"age\": 1979},\n",
    "                    {\"name\": \"Etta\", \"age\": 2008}\n",
    "                ]"
   ]
  },
  {
   "cell_type": "code",
   "execution_count": 25,
   "metadata": {},
   "outputs": [
    {
     "name": "stdout",
     "output_type": "stream",
     "text": [
      "Bob is 24 years old.\n",
      "Jack is 28 years old.\n",
      "Lisa is 18 years old.\n",
      "Maria is 13 years old.\n",
      "Ben is 16 years old.\n",
      "Emma is 17 years old.\n",
      "Oscar is 29 years old.\n",
      "Amy is 27 years old.\n",
      "Paul is 44 years old.\n",
      "Etta is 15 years old.\n"
     ]
    }
   ],
   "source": [
    "# Exercise 11\n",
    "def print_customer_data(x):\n",
    "    for customer in x:\n",
    "        name = customer['name']\n",
    "        age = 2023 - customer['age']\n",
    "        print(f\"{name} is {age} years old.\")\n",
    "\n",
    "print_customer_data(customer_list)"
   ]
  },
  {
   "cell_type": "code",
   "execution_count": 26,
   "metadata": {},
   "outputs": [
    {
     "name": "stdout",
     "output_type": "stream",
     "text": [
      "Bob is 24 years old.\n",
      "Jack is 28 years old.\n",
      "Lisa is 18 years old.\n",
      "Maria is 13 years old.\n",
      "Ben is 16 years old.\n",
      "Emma is 17 years old.\n",
      "Oscar is 29 years old.\n",
      "Amy is 27 years old.\n",
      "Paul is 44 years old.\n",
      "Etta is 15 years old.\n"
     ]
    }
   ],
   "source": [
    "# Exercise 11 with additional variable\n",
    "def print_customer_data(x, year):\n",
    "    for customer in x:\n",
    "        print(f\"{customer['name']} is {year - customer['age']} years old.\")\n",
    "\n",
    "print_customer_data(customer_list, 2023)"
   ]
  },
  {
   "cell_type": "code",
   "execution_count": 91,
   "metadata": {},
   "outputs": [
    {
     "name": "stdout",
     "output_type": "stream",
     "text": [
      "[11, 12, 13, 14, 20, 23, 24, 25]\n"
     ]
    }
   ],
   "source": [
    "# Exercise 12\n",
    "ages = [20, 24, 14, 9, 12, 13, 25, 23, 40, 11]\n",
    "\n",
    "def remove_min_and_max(ages):\n",
    "    ages.sort()\n",
    "    ages = ages[1:-1]\n",
    "    return ages\n",
    "\n",
    "ages = remove_min_and_max(ages)\n",
    "print(ages)"
   ]
  },
  {
   "cell_type": "code",
   "execution_count": 95,
   "metadata": {},
   "outputs": [
    {
     "name": "stdout",
     "output_type": "stream",
     "text": [
      "[15, 13, 16, 18, 19, 10]\n"
     ]
    }
   ],
   "source": [
    "# Exercise 13\n",
    "berlin = [15, 13, 16, 18, 19, 10, 12 ]\n",
    "munich = [7, 13, 15, 20, 19, 18, 10, 16]\n",
    "\n",
    "def common_ages(a, b):\n",
    "    common = [age for age in a if age in b]\n",
    "    return common\n",
    "\n",
    "common = common_ages(berlin, munich)\n",
    "print(common)"
   ]
  },
  {
   "cell_type": "code",
   "execution_count": 96,
   "metadata": {},
   "outputs": [
    {
     "name": "stdout",
     "output_type": "stream",
     "text": [
      "{10, 13, 15, 16, 18, 19}\n"
     ]
    }
   ],
   "source": [
    "# Exercise 14\n",
    "ages = [15,13,16,18,19,15,10]\n",
    "\n",
    "def remove_duplicates(l):\n",
    "    return set(l)\n",
    "\n",
    "ages = remove_duplicates(ages)\n",
    "print(ages)\n"
   ]
  },
  {
   "cell_type": "markdown",
   "metadata": {},
   "source": [
    "### Exercise 19\n",
    "Write a function that takes an input list and value of age to find as input and return true or false if the age value is present or not in the list."
   ]
  },
  {
   "cell_type": "code",
   "execution_count": 101,
   "metadata": {},
   "outputs": [
    {
     "name": "stdout",
     "output_type": "stream",
     "text": [
      "True\n",
      "False\n"
     ]
    }
   ],
   "source": [
    "age_1 = 13\n",
    "age_2 = 55\n",
    "ages = [15,13,16,18,19,15,10]\n",
    "\n",
    "def age_in_list(age, ages):\n",
    "    return age in ages\n",
    "\n",
    "print(age_in_list(age_1, ages))\n",
    "print(age_in_list(age_2, ages))"
   ]
  },
  {
   "cell_type": "code",
   "execution_count": null,
   "metadata": {},
   "outputs": [],
   "source": []
  }
 ],
 "metadata": {
  "kernelspec": {
   "display_name": "base",
   "language": "python",
   "name": "python3"
  },
  "language_info": {
   "codemirror_mode": {
    "name": "ipython",
    "version": 3
   },
   "file_extension": ".py",
   "mimetype": "text/x-python",
   "name": "python",
   "nbconvert_exporter": "python",
   "pygments_lexer": "ipython3",
   "version": "3.11.5"
  }
 },
 "nbformat": 4,
 "nbformat_minor": 2
}
